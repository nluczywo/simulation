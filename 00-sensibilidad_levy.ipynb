{
 "cells": [
  {
   "cell_type": "code",
   "execution_count": 1,
   "id": "4dea3883-92ae-4f2e-9377-409366a2c6dc",
   "metadata": {
    "tags": []
   },
   "outputs": [],
   "source": [
    "import garpar as gp\n",
    "import itertools as it\n",
    "import numpy as np\n",
    "import joblib as jb\n",
    "import tqdm.notebook\n",
    "import scipy \n",
    "import matplotlib.pyplot as plt\n"
   ]
  },
  {
   "cell_type": "markdown",
   "id": "64cc3be4-feba-4218-85a0-07c9e11194ed",
   "metadata": {
    "tags": []
   },
   "source": [
    "Los parámetros  por defecto de la levi estable son **alpha=1.6411, beta=-0.0126,mu=0.0005,    sigma=0.005** Para analizar la variación en mu se analiza el intervalo de confianza para la media para la distribución levy estable con esos parámetros."
   ]
  },
  {
   "cell_type": "code",
   "execution_count": 2,
   "id": "c9012de0-c0f5-4884-951c-ab4c0e0bdddc",
   "metadata": {
    "tags": []
   },
   "outputs": [
    {
     "data": {
      "text/plain": [
       "(-0.04195648420097981, 0.04238113300757857)"
      ]
     },
     "execution_count": 2,
     "metadata": {},
     "output_type": "execute_result"
    }
   ],
   "source": [
    "interval_mu = scipy.stats.levy_stable.interval(confidence=0.99, alpha=1.6411, beta=-0.0126, \n",
    "                                         loc=0.0005, scale=0.005)\n",
    "interval_mu"
   ]
  },
  {
   "cell_type": "markdown",
   "id": "f2d299fd-c3e0-4b5e-afe4-0003811eb01a",
   "metadata": {},
   "source": [
    "# Variación de $\\mu$ "
   ]
  },
  {
   "cell_type": "code",
   "execution_count": 4,
   "id": "fc4221f8-e20d-41f3-b72c-899e1e9a0976",
   "metadata": {
    "tags": []
   },
   "outputs": [
    {
     "data": {
      "application/vnd.jupyter.widget-view+json": {
       "model_id": "9232cb913c3244f1a7676b37baed4b8b",
       "version_major": 2,
       "version_minor": 0
      },
      "text/plain": [
       "  0%|          | 0/100 [00:00<?, ?it/s]"
      ]
     },
     "metadata": {},
     "output_type": "display_data"
    }
   ],
   "source": [
    "mus = np.linspace(-0.041956,0.004238,100)\n",
    "\n",
    "\n",
    "N_JOBS=-1\n",
    "total = 100\n",
    "\n",
    "simus = []\n",
    "for  mu in tqdm.notebook.tqdm(mus):\n",
    "    seed = np.random.randint(0, np.iinfo(int).max)\n",
    "    market = gp.datasets.make_risso_levy_stable(\n",
    "        mu=mu, random_state=seed, n_jobs=N_JOBS, stocks=100, price=1000)\n",
    "    delisted = market.delisted.sum()/100\n",
    "    simulation_data = { \n",
    "        'seed': seed,\n",
    "        'mu': mu,\n",
    "        'delisted': delisted                       \n",
    "    }\n",
    "    simus.append(simulation_data)\n",
    "\n",
    "jb.dump(simus, 'data/simu_levi_mu.bz2', compress=9)\n",
    "del simus"
   ]
  },
  {
   "cell_type": "markdown",
   "id": "266b46a7-ffe3-47a8-aa79-1b7d652848de",
   "metadata": {},
   "source": [
    "# Variación de $\\sigma$ "
   ]
  },
  {
   "cell_type": "code",
   "execution_count": null,
   "id": "369909c3-cb6a-4d09-9d58-fb27e2e0168e",
   "metadata": {
    "tags": []
   },
   "outputs": [],
   "source": [
    "sigmas = np.linspace(0.0005, 0.05,100)\n",
    "\n",
    "N_JOBS=-1\n",
    "total = 100\n",
    "\n",
    "simus = []\n",
    "for  sigma in tqdm.notebook.tqdm(sigmas):\n",
    "    seed = np.random.randint(0, np.iinfo(int).max)\n",
    "    market = gp.datasets.make_risso_levy_stable(sigma=sigma, \n",
    "                                                random_state=seed, n_jobs=N_JOBS,\n",
    "                                                stocks=100, price=1000)\n",
    "    delisted = market.delisted.sum()\n",
    "    simulation_data = { 'seed': seed,\n",
    "                       'sigma': sigma,\n",
    "                       'delisted': delisted                       \n",
    "                      }\n",
    "    simus.append(simulation_data)\n",
    "\n",
    "jb.dump(simus, 'data/simu_levi_sigma.bz2', compress=9)\n",
    "del simus\n"
   ]
  },
  {
   "cell_type": "markdown",
   "id": "159a958c-d557-4aa9-b1da-8b31ef20432b",
   "metadata": {
    "tags": []
   },
   "source": [
    "# Variación de $\\alpha$ "
   ]
  },
  {
   "cell_type": "code",
   "execution_count": null,
   "id": "b2bc0fff-1ca9-4fe8-80ee-949fa0687f5d",
   "metadata": {
    "tags": []
   },
   "outputs": [],
   "source": [
    "#alpha = kurt\n",
    "\n",
    "alphas= np.linspace( 0.5, 2, 100)\n",
    "\n",
    "N_JOBS=-1\n",
    "total = 100\n",
    "\n",
    "simus = []\n",
    "for  alpha in tqdm.notebook.tqdm(alphas):\n",
    "    seed = np.random.randint(0, np.iinfo(int).max)\n",
    "    market = gp.datasets.make_risso_levy_stable(alpha=alpha, \n",
    "                                               random_state=seed, n_jobs=N_JOBS,\n",
    "                                               stocks=100, price=1000)\n",
    "    delisted = market.delisted.sum()\n",
    "    simulation_data = { 'seed': seed,\n",
    "                       'alpha': alpha,\n",
    "                       'delisted': delisted                       \n",
    "                      }\n",
    "    simus.append(simulation_data)\n",
    "\n",
    "jb.dump(simus, 'data/simu_levi_alpha.bz2', compress=9)\n",
    "del simus"
   ]
  },
  {
   "cell_type": "code",
   "execution_count": 5,
   "id": "4f46c158-e9ea-4aed-9fbf-e0872c68db2c",
   "metadata": {
    "tags": []
   },
   "outputs": [
    {
     "data": {
      "text/plain": [
       "array(0.01592451)"
      ]
     },
     "execution_count": 5,
     "metadata": {},
     "output_type": "execute_result"
    }
   ],
   "source": [
    "#no admite cero y falla con valores menores a 0.05, el código pasa desde 0.0101 \n",
    "#que da un número muy grande pero trabajable en memoria. Desde valores de alfa de 0.23\n",
    "# empieza  a dar números coherehtes pero cuando cambia la semilla son grandes. El umbral\n",
    "# puede ser 0.5 parece mas estable. Tampoco el valor de alfa es más grande que 2\n",
    "#failure = gp.datasets.make_risso_levy_stable(alpha=0.01, random_state=seed, n_jobs=1, stocks=100, price=1000) \n",
    "#failure\n",
    "ls = scipy.stats.levy_stable(\n",
    "        alpha=2.0, beta=-0.0126, loc=0.0005, scale=0.005\n",
    ")\n",
    "ls.rvs()"
   ]
  },
  {
   "cell_type": "code",
   "execution_count": 6,
   "id": "0d945387-7df0-465f-a872-a1c1df26ded3",
   "metadata": {
    "tags": []
   },
   "outputs": [
    {
     "data": {
      "text/plain": [
       "[<matplotlib.lines.Line2D at 0x7f681900e460>]"
      ]
     },
     "execution_count": 6,
     "metadata": {},
     "output_type": "execute_result"
    },
    {
     "data": {
      "image/png": "[encoded data removed]",
      "text/plain": [
       "<Figure size 640x480 with 1 Axes>"
      ]
     },
     "metadata": {},
     "output_type": "display_data"
    }
   ],
   "source": [
    "fig, ax = plt.subplots(1, 1)\n",
    "#alpha, beta = 1.8, -0.5\n",
    "alpha, beta, loc, scale = 0.5, -0.5, 0.0005, 0.005\n",
    "\n",
    "x = np.linspace(scipy.stats.levy_stable.ppf(0.01, alpha, beta, loc, scale),\n",
    "                scipy.stats.levy_stable.ppf(0.99, alpha, beta, loc, scale), 100)\n",
    "ax.plot(x, scipy.stats.levy_stable.pdf(x, alpha, beta,loc,scale),\n",
    "       'r-', lw=5, alpha=0.6, label='levy_stable pdf')"
   ]
  },
  {
   "cell_type": "code",
   "execution_count": null,
   "id": "6973cd05-8a40-4669-a481-7eea6f762df5",
   "metadata": {
    "tags": []
   },
   "outputs": [],
   "source": [
    "alpha, beta, loc, scale = 0.5, 0.0001, 0.005, 0.0005\n",
    "scipy.stats.levy_stable.ppf(0.5, alpha, beta, loc, scale)"
   ]
  },
  {
   "cell_type": "code",
   "execution_count": null,
   "id": "b06a32f9-bc77-43f6-9e9a-75b98637afdf",
   "metadata": {
    "tags": []
   },
   "outputs": [],
   "source": [
    "alpha, beta, loc, scale = 0.6, 0.5, 0, 1\n",
    "scipy.stats.levy_stable.ppf(0.3033, alpha, beta, loc, scale)*1+0.005\n",
    "# con alfa de 0,5 y asimetría positiva de 0.5 el quiebre es 0.2045 los valores por debajo devuelve valores\n",
    "# menores que cero al desestandarizar el valor se transforma en positivo. Si tomo la estandarización el\n",
    "# umbral es 0.2033\n",
    "#\n"
   ]
  },
  {
   "cell_type": "code",
   "execution_count": null,
   "id": "fe0c7013-83da-4a62-a82e-84b4f04b1144",
   "metadata": {
    "tags": []
   },
   "outputs": [],
   "source": [
    "a = scipy.stats.levy_stable.rvs(alpha=0.5, beta=-0.5, loc=0.0005, scale=0.005, size=10, random_state=52)\n",
    "a\n"
   ]
  },
  {
   "cell_type": "code",
   "execution_count": null,
   "id": "d7e3d303-f0f8-4ab6-8faf-b76d755dff66",
   "metadata": {
    "tags": []
   },
   "outputs": [],
   "source": [
    "b = scipy.stats.levy_stable.rvs(alpha=0.5, beta=0.5, loc=0.0005, scale=0.005, size=10, random_state=52)\n",
    "b"
   ]
  },
  {
   "cell_type": "markdown",
   "id": "07adbf27-530a-4b92-b285-8376e85c0a3d",
   "metadata": {},
   "source": [
    "# Variación de $\\beta$ "
   ]
  },
  {
   "cell_type": "code",
   "execution_count": null,
   "id": "6f49b318-267f-4b25-aecf-484668679f01",
   "metadata": {
    "tags": []
   },
   "outputs": [],
   "source": [
    "# beta = skew\n",
    "betas= np.linspace(-0.5, 0.5, 100)\n",
    "\n",
    "N_JOBS=-1\n",
    "total = 100\n",
    "\n",
    "simus = []\n",
    "for  beta in tqdm.notebook.tqdm(betas):\n",
    "    seed = np.random.randint(0, np.iinfo(int).max)\n",
    "    market = gp.datasets.make_risso_levy_stable(beta=beta, \n",
    "                                                random_state=seed, n_jobs=N_JOBS,\n",
    "                                                stocks=100, price=1000)\n",
    "    delisted = market.delisted.sum()\n",
    "    simulation_data = { 'seed': seed,\n",
    "                       'beta': beta,\n",
    "                       'delisted': delisted                       \n",
    "                      }\n",
    "    simus.append(simulation_data)\n",
    "\n",
    "jb.dump(simus, 'data/simu_levi_beta.bz2', compress=9)\n",
    "del simus"
   ]
  }
 ],
 "metadata": {
  "kernelspec": {
   "display_name": "Python 3 (ipykernel)",
   "language": "python",
   "name": "python3"
  },
  "language_info": {
   "codemirror_mode": {
    "name": "ipython",
    "version": 3
   },
   "file_extension": ".py",
   "mimetype": "text/x-python",
   "name": "python",
   "nbconvert_exporter": "python",
   "pygments_lexer": "ipython3",
   "version": "3.9.5"
  }
 },
 "nbformat": 4,
 "nbformat_minor": 5
}
