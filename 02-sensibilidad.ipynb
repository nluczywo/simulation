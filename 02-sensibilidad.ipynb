{
 "cells": [
  {
   "cell_type": "code",
   "execution_count": 1,
   "id": "ddd9579d",
   "metadata": {
    "tags": []
   },
   "outputs": [],
   "source": [
    "import garpar as gp\n",
    "import itertools as it\n",
    "import numpy as np\n",
    "import joblib as jb\n",
    "import tqdm.notebook"
   ]
  },
  {
   "cell_type": "markdown",
   "id": "2cf04132-dcdc-41d4-844d-17d39070c179",
   "metadata": {},
   "source": [
    "## Configurations"
   ]
  },
  {
   "cell_type": "code",
   "execution_count": 2,
   "id": "abdfd1c1",
   "metadata": {
    "tags": []
   },
   "outputs": [],
   "source": [
    "STOCKS = 3\n",
    "\n",
    "WSS = [2,3,4,5,6,7]\n",
    "HS = [0.01, 0.20, 0.40, 0.6, 0.8, 0.99]\n",
    "REPETITIONS = range(2)\n",
    "\n",
    "N_JOBS = -1"
   ]
  },
  {
   "cell_type": "markdown",
   "id": "ffc676c7-5edd-4cb1-a6b8-b26945cb4e08",
   "metadata": {},
   "source": [
    "## Normal"
   ]
  },
  {
   "cell_type": "code",
   "execution_count": 3,
   "id": "1c0b5dbc",
   "metadata": {
    "tags": []
   },
   "outputs": [
    {
     "data": {
      "application/vnd.jupyter.widget-view+json": {
       "model_id": "48033847ada64ce28ddd103f245b01ce",
       "version_major": 2,
       "version_minor": 0
      },
      "text/plain": [
       "  0%|          | 0/7200 [00:00<?, ?it/s]"
      ]
     },
     "metadata": {},
     "output_type": "display_data"
    }
   ],
   "source": [
    "mus = np.linspace(-0.004,0.004,10)\n",
    "sigmas = np.linspace(0.000001, 0.20/365,10)\n",
    "\n",
    "combinations = it.product(mus, sigmas, WSS, HS, REPETITIONS)\n",
    "total = len(mus) * len(sigmas) * len(WSS) * len(HS) * len(REPETITIONS)\n",
    "\n",
    "simus = []\n",
    "for mu, sigma, ws, h, iteration in tqdm.notebook.tqdm(combinations, total=total):\n",
    "    seed = np.random.randint(0, np.iinfo(int).max)\n",
    "    market = gp.datasets.make_risso_normal(mu=mu, sigma=sigma, window_size=ws, entropy=h, \n",
    "                                           random_state=seed, n_jobs=N_JOBS, stocks=STOCKS)\n",
    "    simulation_data = { 'seed': seed,\n",
    "                      'mu': mu,\n",
    "                       'sigma': sigma,\n",
    "                       'window_size': ws,\n",
    "                       'entropy': h,\n",
    "                       'iteration': iteration,\n",
    "                       'market': market\n",
    "                      }\n",
    "    simus.append(simulation_data)\n",
    "\n",
    "jb.dump(simus, 'data/simu_normal.bz2', compress=9)\n",
    "del simus"
   ]
  },
  {
   "cell_type": "markdown",
   "id": "11a97039-f39e-4277-90db-8831722351fa",
   "metadata": {},
   "source": [
    "## LeviStable"
   ]
  },
  {
   "cell_type": "code",
   "execution_count": 4,
   "id": "5be4a73c-c014-4a0d-8672-527efdae1287",
   "metadata": {},
   "outputs": [
    {
     "data": {
      "application/vnd.jupyter.widget-view+json": {
       "model_id": "9a7cdc8fca6f41aa89506a61ced0686e",
       "version_major": 2,
       "version_minor": 0
      },
      "text/plain": [
       "  0%|          | 0/45000 [00:00<?, ?it/s]"
      ]
     },
     "metadata": {},
     "output_type": "display_data"
    },
    {
     "name": "stderr",
     "output_type": "stream",
     "text": [
      "/home/nadia/simulacion/lib/python3.9/site-packages/scipy/stats/_levy_stable/__init__.py:437: RuntimeWarning: overflow encountered in power\n",
      "  res3 = val3 * (\n",
      "/home/nadia/simulacion/lib/python3.9/site-packages/scipy/stats/_levy_stable/__init__.py:437: RuntimeWarning: overflow encountered in power\n",
      "  res3 = val3 * (\n",
      "/home/nadia/simulacion/lib/python3.9/site-packages/garpar/datasets/risso.py:160: RuntimeWarning: invalid value encountered in scalar add\n",
      "  new_price = price + day_return\n",
      "/home/nadia/simulacion/lib/python3.9/site-packages/garpar/datasets/risso.py:160: RuntimeWarning: invalid value encountered in scalar add\n",
      "  new_price = price + day_return\n",
      "/home/nadia/simulacion/lib/python3.9/site-packages/scipy/stats/_levy_stable/__init__.py:437: RuntimeWarning: overflow encountered in power\n",
      "  res3 = val3 * (\n",
      "/home/nadia/simulacion/lib/python3.9/site-packages/scipy/stats/_levy_stable/__init__.py:437: RuntimeWarning: overflow encountered in power\n",
      "  res3 = val3 * (\n",
      "/home/nadia/simulacion/lib/python3.9/site-packages/scipy/stats/_levy_stable/__init__.py:437: RuntimeWarning: overflow encountered in power\n",
      "  res3 = val3 * (\n",
      "/home/nadia/simulacion/lib/python3.9/site-packages/garpar/datasets/risso.py:160: RuntimeWarning: invalid value encountered in scalar add\n",
      "  new_price = price + day_return\n",
      "/home/nadia/simulacion/lib/python3.9/site-packages/garpar/datasets/risso.py:160: RuntimeWarning: invalid value encountered in scalar add\n",
      "  new_price = price + day_return\n",
      "/home/nadia/simulacion/lib/python3.9/site-packages/scipy/stats/_levy_stable/__init__.py:437: RuntimeWarning: overflow encountered in power\n",
      "  res3 = val3 * (\n",
      "/home/nadia/simulacion/lib/python3.9/site-packages/scipy/stats/_levy_stable/__init__.py:437: RuntimeWarning: overflow encountered in power\n",
      "  res3 = val3 * (\n",
      "/home/nadia/simulacion/lib/python3.9/site-packages/scipy/stats/_levy_stable/__init__.py:437: RuntimeWarning: overflow encountered in power\n",
      "  res3 = val3 * (\n",
      "/home/nadia/simulacion/lib/python3.9/site-packages/garpar/datasets/risso.py:160: RuntimeWarning: invalid value encountered in scalar add\n",
      "  new_price = price + day_return\n",
      "/home/nadia/simulacion/lib/python3.9/site-packages/garpar/datasets/risso.py:160: RuntimeWarning: invalid value encountered in scalar add\n",
      "  new_price = price + day_return\n",
      "/home/nadia/simulacion/lib/python3.9/site-packages/garpar/datasets/risso.py:160: RuntimeWarning: invalid value encountered in scalar add\n",
      "  new_price = price + day_return\n",
      "/home/nadia/simulacion/lib/python3.9/site-packages/garpar/datasets/risso.py:160: RuntimeWarning: invalid value encountered in scalar add\n",
      "  new_price = price + day_return\n"
     ]
    },
    {
     "ename": "KeyboardInterrupt",
     "evalue": "",
     "output_type": "error",
     "traceback": [
      "\u001b[0;31m---------------------------------------------------------------------------\u001b[0m",
      "\u001b[0;31mKeyboardInterrupt\u001b[0m                         Traceback (most recent call last)",
      "Cell \u001b[0;32mIn[4], line 12\u001b[0m\n\u001b[1;32m     10\u001b[0m \u001b[38;5;28;01mfor\u001b[39;00m alpha, beta, mu, sigma, ws, h, iteration \u001b[38;5;129;01min\u001b[39;00m tqdm\u001b[38;5;241m.\u001b[39mnotebook\u001b[38;5;241m.\u001b[39mtqdm(combinations, total\u001b[38;5;241m=\u001b[39mtotal):\n\u001b[1;32m     11\u001b[0m     seed \u001b[38;5;241m=\u001b[39m np\u001b[38;5;241m.\u001b[39mrandom\u001b[38;5;241m.\u001b[39mrandint(\u001b[38;5;241m0\u001b[39m, np\u001b[38;5;241m.\u001b[39miinfo(\u001b[38;5;28mint\u001b[39m)\u001b[38;5;241m.\u001b[39mmax)\n\u001b[0;32m---> 12\u001b[0m     market \u001b[38;5;241m=\u001b[39m \u001b[43mgp\u001b[49m\u001b[38;5;241;43m.\u001b[39;49m\u001b[43mdatasets\u001b[49m\u001b[38;5;241;43m.\u001b[39;49m\u001b[43mmake_risso_levy_stable\u001b[49m\u001b[43m(\u001b[49m\u001b[43malpha\u001b[49m\u001b[38;5;241;43m=\u001b[39;49m\u001b[43malpha\u001b[49m\u001b[43m,\u001b[49m\u001b[43m \u001b[49m\u001b[43mbeta\u001b[49m\u001b[38;5;241;43m=\u001b[39;49m\u001b[43mbeta\u001b[49m\u001b[43m,\u001b[49m\u001b[43m \u001b[49m\u001b[43mmu\u001b[49m\u001b[38;5;241;43m=\u001b[39;49m\u001b[43mmu\u001b[49m\u001b[43m,\u001b[49m\u001b[43m \u001b[49m\u001b[43msigma\u001b[49m\u001b[38;5;241;43m=\u001b[39;49m\u001b[43msigma\u001b[49m\u001b[43m,\u001b[49m\u001b[43m \u001b[49m\u001b[43mwindow_size\u001b[49m\u001b[38;5;241;43m=\u001b[39;49m\u001b[43mws\u001b[49m\u001b[43m,\u001b[49m\u001b[43m \u001b[49m\u001b[43mentropy\u001b[49m\u001b[38;5;241;43m=\u001b[39;49m\u001b[43mh\u001b[49m\u001b[43m,\u001b[49m\u001b[43m \u001b[49m\n\u001b[1;32m     13\u001b[0m \u001b[43m                                           \u001b[49m\u001b[43mrandom_state\u001b[49m\u001b[38;5;241;43m=\u001b[39;49m\u001b[43mseed\u001b[49m\u001b[43m,\u001b[49m\u001b[43m \u001b[49m\u001b[43mn_jobs\u001b[49m\u001b[38;5;241;43m=\u001b[39;49m\u001b[43mN_JOBS\u001b[49m\u001b[43m,\u001b[49m\u001b[43m \u001b[49m\u001b[43mstocks\u001b[49m\u001b[38;5;241;43m=\u001b[39;49m\u001b[43mSTOCKS\u001b[49m\u001b[43m)\u001b[49m\n\u001b[1;32m     14\u001b[0m     simulation_data \u001b[38;5;241m=\u001b[39m { \u001b[38;5;124m'\u001b[39m\u001b[38;5;124mseed\u001b[39m\u001b[38;5;124m'\u001b[39m: seed,\n\u001b[1;32m     15\u001b[0m                       \u001b[38;5;124m'\u001b[39m\u001b[38;5;124mmu\u001b[39m\u001b[38;5;124m'\u001b[39m: mu,\n\u001b[1;32m     16\u001b[0m                        \u001b[38;5;124m'\u001b[39m\u001b[38;5;124msigma\u001b[39m\u001b[38;5;124m'\u001b[39m: sigma,\n\u001b[0;32m   (...)\u001b[0m\n\u001b[1;32m     22\u001b[0m                        \u001b[38;5;124m'\u001b[39m\u001b[38;5;124mmarket\u001b[39m\u001b[38;5;124m'\u001b[39m: market\n\u001b[1;32m     23\u001b[0m                       }\n\u001b[1;32m     24\u001b[0m     simus\u001b[38;5;241m.\u001b[39mappend(simulation_data)\n",
      "File \u001b[0;32m~/simulacion/lib/python3.9/site-packages/garpar/datasets/risso.py:186\u001b[0m, in \u001b[0;36mmake_risso_levy_stable\u001b[0;34m(alpha, beta, mu, sigma, entropy, random_state, n_jobs, verbose, **kwargs)\u001b[0m\n\u001b[1;32m    164\u001b[0m \u001b[38;5;28;01mdef\u001b[39;00m \u001b[38;5;21mmake_risso_levy_stable\u001b[39m(\n\u001b[1;32m    165\u001b[0m     alpha\u001b[38;5;241m=\u001b[39m\u001b[38;5;241m1.6411\u001b[39m,\n\u001b[1;32m    166\u001b[0m     beta\u001b[38;5;241m=\u001b[39m\u001b[38;5;241m-\u001b[39m\u001b[38;5;241m0.0126\u001b[39m,\n\u001b[0;32m   (...)\u001b[0m\n\u001b[1;32m    174\u001b[0m     \u001b[38;5;241m*\u001b[39m\u001b[38;5;241m*\u001b[39mkwargs,\n\u001b[1;32m    175\u001b[0m ):\n\u001b[1;32m    176\u001b[0m     maker \u001b[38;5;241m=\u001b[39m RissoLevyStable(\n\u001b[1;32m    177\u001b[0m         alpha\u001b[38;5;241m=\u001b[39malpha,\n\u001b[1;32m    178\u001b[0m         beta\u001b[38;5;241m=\u001b[39mbeta,\n\u001b[0;32m   (...)\u001b[0m\n\u001b[1;32m    184\u001b[0m         verbose\u001b[38;5;241m=\u001b[39mverbose,\n\u001b[1;32m    185\u001b[0m     )\n\u001b[0;32m--> 186\u001b[0m     port \u001b[38;5;241m=\u001b[39m \u001b[43mmaker\u001b[49m\u001b[38;5;241;43m.\u001b[39;49m\u001b[43mmake_portfolio\u001b[49m\u001b[43m(\u001b[49m\u001b[38;5;241;43m*\u001b[39;49m\u001b[38;5;241;43m*\u001b[39;49m\u001b[43mkwargs\u001b[49m\u001b[43m)\u001b[49m\n\u001b[1;32m    187\u001b[0m     \u001b[38;5;28;01mreturn\u001b[39;00m port\n",
      "File \u001b[0;32m~/simulacion/lib/python3.9/site-packages/garpar/datasets/base.py:185\u001b[0m, in \u001b[0;36mRandomEntropyPortfolioMakerABC.make_portfolio\u001b[0;34m(self, window_size, days, stocks, price, weights)\u001b[0m\n\u001b[1;32m    179\u001b[0m \u001b[38;5;28;01mwith\u001b[39;00m joblib\u001b[38;5;241m.\u001b[39mParallel(\n\u001b[1;32m    180\u001b[0m     n_jobs\u001b[38;5;241m=\u001b[39m\u001b[38;5;28mself\u001b[39m\u001b[38;5;241m.\u001b[39mn_jobs,\n\u001b[1;32m    181\u001b[0m     verbose\u001b[38;5;241m=\u001b[39m\u001b[38;5;28mself\u001b[39m\u001b[38;5;241m.\u001b[39mverbose,\n\u001b[1;32m    182\u001b[0m     prefer\u001b[38;5;241m=\u001b[39m\u001b[38;5;124m\"\u001b[39m\u001b[38;5;124mprocesses\u001b[39m\u001b[38;5;124m\"\u001b[39m,\n\u001b[1;32m    183\u001b[0m ) \u001b[38;5;28;01mas\u001b[39;00m P:\n\u001b[1;32m    184\u001b[0m     dmaker \u001b[38;5;241m=\u001b[39m joblib\u001b[38;5;241m.\u001b[39mdelayed(\u001b[38;5;28mself\u001b[39m\u001b[38;5;241m.\u001b[39m_make_stock)\n\u001b[0;32m--> 185\u001b[0m     stocks \u001b[38;5;241m=\u001b[39m \u001b[43mP\u001b[49m\u001b[43m(\u001b[49m\n\u001b[1;32m    186\u001b[0m \u001b[43m        \u001b[49m\u001b[43mdmaker\u001b[49m\u001b[43m(\u001b[49m\n\u001b[1;32m    187\u001b[0m \u001b[43m            \u001b[49m\u001b[43mdays\u001b[49m\u001b[38;5;241;43m=\u001b[39;49m\u001b[43mdays\u001b[49m\u001b[43m,\u001b[49m\n\u001b[1;32m    188\u001b[0m \u001b[43m            \u001b[49m\u001b[43mloss_probability\u001b[49m\u001b[38;5;241;43m=\u001b[39;49m\u001b[43mloss_probability\u001b[49m\u001b[43m,\u001b[49m\n\u001b[1;32m    189\u001b[0m \u001b[43m            \u001b[49m\u001b[43mstock_idx\u001b[49m\u001b[38;5;241;43m=\u001b[39;49m\u001b[43mstock_idx\u001b[49m\u001b[43m,\u001b[49m\n\u001b[1;32m    190\u001b[0m \u001b[43m            \u001b[49m\u001b[43minitial_price\u001b[49m\u001b[38;5;241;43m=\u001b[39;49m\u001b[43mstock_price\u001b[49m\u001b[43m,\u001b[49m\n\u001b[1;32m    191\u001b[0m \u001b[43m            \u001b[49m\u001b[43mrandom\u001b[49m\u001b[38;5;241;43m=\u001b[39;49m\u001b[43mnp\u001b[49m\u001b[38;5;241;43m.\u001b[39;49m\u001b[43mrandom\u001b[49m\u001b[38;5;241;43m.\u001b[39;49m\u001b[43mdefault_rng\u001b[49m\u001b[43m(\u001b[49m\u001b[43mseed\u001b[49m\u001b[43m)\u001b[49m\u001b[43m,\u001b[49m\n\u001b[1;32m    192\u001b[0m \u001b[43m        \u001b[49m\u001b[43m)\u001b[49m\n\u001b[1;32m    193\u001b[0m \u001b[43m        \u001b[49m\u001b[38;5;28;43;01mfor\u001b[39;49;00m\u001b[43m \u001b[49m\u001b[43mstock_idx\u001b[49m\u001b[43m,\u001b[49m\u001b[43m \u001b[49m\u001b[43mstock_price\u001b[49m\u001b[43m,\u001b[49m\u001b[43m \u001b[49m\u001b[43mseed\u001b[49m\u001b[43m \u001b[49m\u001b[38;5;129;43;01min\u001b[39;49;00m\u001b[43m \u001b[49m\u001b[43midx_prices_seed\u001b[49m\n\u001b[1;32m    194\u001b[0m \u001b[43m    \u001b[49m\u001b[43m)\u001b[49m\n\u001b[1;32m    196\u001b[0m stock_df \u001b[38;5;241m=\u001b[39m pd\u001b[38;5;241m.\u001b[39mconcat(stocks, axis\u001b[38;5;241m=\u001b[39m\u001b[38;5;241m1\u001b[39m)\n\u001b[1;32m    198\u001b[0m \u001b[38;5;28;01mreturn\u001b[39;00m Portfolio\u001b[38;5;241m.\u001b[39mfrom_dfkws(\n\u001b[1;32m    199\u001b[0m     stock_df,\n\u001b[1;32m    200\u001b[0m     weights\u001b[38;5;241m=\u001b[39mweights,\n\u001b[1;32m    201\u001b[0m     entropy\u001b[38;5;241m=\u001b[39m\u001b[38;5;28mself\u001b[39m\u001b[38;5;241m.\u001b[39mentropy,\n\u001b[1;32m    202\u001b[0m     window_size\u001b[38;5;241m=\u001b[39mwindow_size,\n\u001b[1;32m    203\u001b[0m )\n",
      "File \u001b[0;32m~/simulacion/lib/python3.9/site-packages/joblib/parallel.py:1098\u001b[0m, in \u001b[0;36mParallel.__call__\u001b[0;34m(self, iterable)\u001b[0m\n\u001b[1;32m   1095\u001b[0m     \u001b[38;5;28mself\u001b[39m\u001b[38;5;241m.\u001b[39m_iterating \u001b[38;5;241m=\u001b[39m \u001b[38;5;28;01mFalse\u001b[39;00m\n\u001b[1;32m   1097\u001b[0m \u001b[38;5;28;01mwith\u001b[39;00m \u001b[38;5;28mself\u001b[39m\u001b[38;5;241m.\u001b[39m_backend\u001b[38;5;241m.\u001b[39mretrieval_context():\n\u001b[0;32m-> 1098\u001b[0m     \u001b[38;5;28;43mself\u001b[39;49m\u001b[38;5;241;43m.\u001b[39;49m\u001b[43mretrieve\u001b[49m\u001b[43m(\u001b[49m\u001b[43m)\u001b[49m\n\u001b[1;32m   1099\u001b[0m \u001b[38;5;66;03m# Make sure that we get a last message telling us we are done\u001b[39;00m\n\u001b[1;32m   1100\u001b[0m elapsed_time \u001b[38;5;241m=\u001b[39m time\u001b[38;5;241m.\u001b[39mtime() \u001b[38;5;241m-\u001b[39m \u001b[38;5;28mself\u001b[39m\u001b[38;5;241m.\u001b[39m_start_time\n",
      "File \u001b[0;32m~/simulacion/lib/python3.9/site-packages/joblib/parallel.py:975\u001b[0m, in \u001b[0;36mParallel.retrieve\u001b[0;34m(self)\u001b[0m\n\u001b[1;32m    973\u001b[0m \u001b[38;5;28;01mtry\u001b[39;00m:\n\u001b[1;32m    974\u001b[0m     \u001b[38;5;28;01mif\u001b[39;00m \u001b[38;5;28mgetattr\u001b[39m(\u001b[38;5;28mself\u001b[39m\u001b[38;5;241m.\u001b[39m_backend, \u001b[38;5;124m'\u001b[39m\u001b[38;5;124msupports_timeout\u001b[39m\u001b[38;5;124m'\u001b[39m, \u001b[38;5;28;01mFalse\u001b[39;00m):\n\u001b[0;32m--> 975\u001b[0m         \u001b[38;5;28mself\u001b[39m\u001b[38;5;241m.\u001b[39m_output\u001b[38;5;241m.\u001b[39mextend(\u001b[43mjob\u001b[49m\u001b[38;5;241;43m.\u001b[39;49m\u001b[43mget\u001b[49m\u001b[43m(\u001b[49m\u001b[43mtimeout\u001b[49m\u001b[38;5;241;43m=\u001b[39;49m\u001b[38;5;28;43mself\u001b[39;49m\u001b[38;5;241;43m.\u001b[39;49m\u001b[43mtimeout\u001b[49m\u001b[43m)\u001b[49m)\n\u001b[1;32m    976\u001b[0m     \u001b[38;5;28;01melse\u001b[39;00m:\n\u001b[1;32m    977\u001b[0m         \u001b[38;5;28mself\u001b[39m\u001b[38;5;241m.\u001b[39m_output\u001b[38;5;241m.\u001b[39mextend(job\u001b[38;5;241m.\u001b[39mget())\n",
      "File \u001b[0;32m~/simulacion/lib/python3.9/site-packages/joblib/_parallel_backends.py:567\u001b[0m, in \u001b[0;36mLokyBackend.wrap_future_result\u001b[0;34m(future, timeout)\u001b[0m\n\u001b[1;32m    564\u001b[0m \u001b[38;5;250m\u001b[39m\u001b[38;5;124;03m\"\"\"Wrapper for Future.result to implement the same behaviour as\u001b[39;00m\n\u001b[1;32m    565\u001b[0m \u001b[38;5;124;03mAsyncResults.get from multiprocessing.\"\"\"\u001b[39;00m\n\u001b[1;32m    566\u001b[0m \u001b[38;5;28;01mtry\u001b[39;00m:\n\u001b[0;32m--> 567\u001b[0m     \u001b[38;5;28;01mreturn\u001b[39;00m \u001b[43mfuture\u001b[49m\u001b[38;5;241;43m.\u001b[39;49m\u001b[43mresult\u001b[49m\u001b[43m(\u001b[49m\u001b[43mtimeout\u001b[49m\u001b[38;5;241;43m=\u001b[39;49m\u001b[43mtimeout\u001b[49m\u001b[43m)\u001b[49m\n\u001b[1;32m    568\u001b[0m \u001b[38;5;28;01mexcept\u001b[39;00m CfTimeoutError \u001b[38;5;28;01mas\u001b[39;00m e:\n\u001b[1;32m    569\u001b[0m     \u001b[38;5;28;01mraise\u001b[39;00m \u001b[38;5;167;01mTimeoutError\u001b[39;00m \u001b[38;5;28;01mfrom\u001b[39;00m \u001b[38;5;21;01me\u001b[39;00m\n",
      "File \u001b[0;32m/usr/lib/python3.9/concurrent/futures/_base.py:440\u001b[0m, in \u001b[0;36mFuture.result\u001b[0;34m(self, timeout)\u001b[0m\n\u001b[1;32m    437\u001b[0m \u001b[38;5;28;01melif\u001b[39;00m \u001b[38;5;28mself\u001b[39m\u001b[38;5;241m.\u001b[39m_state \u001b[38;5;241m==\u001b[39m FINISHED:\n\u001b[1;32m    438\u001b[0m     \u001b[38;5;28;01mreturn\u001b[39;00m \u001b[38;5;28mself\u001b[39m\u001b[38;5;241m.\u001b[39m__get_result()\n\u001b[0;32m--> 440\u001b[0m \u001b[38;5;28;43mself\u001b[39;49m\u001b[38;5;241;43m.\u001b[39;49m\u001b[43m_condition\u001b[49m\u001b[38;5;241;43m.\u001b[39;49m\u001b[43mwait\u001b[49m\u001b[43m(\u001b[49m\u001b[43mtimeout\u001b[49m\u001b[43m)\u001b[49m\n\u001b[1;32m    442\u001b[0m \u001b[38;5;28;01mif\u001b[39;00m \u001b[38;5;28mself\u001b[39m\u001b[38;5;241m.\u001b[39m_state \u001b[38;5;129;01min\u001b[39;00m [CANCELLED, CANCELLED_AND_NOTIFIED]:\n\u001b[1;32m    443\u001b[0m     \u001b[38;5;28;01mraise\u001b[39;00m CancelledError()\n",
      "File \u001b[0;32m/usr/lib/python3.9/threading.py:312\u001b[0m, in \u001b[0;36mCondition.wait\u001b[0;34m(self, timeout)\u001b[0m\n\u001b[1;32m    310\u001b[0m \u001b[38;5;28;01mtry\u001b[39;00m:    \u001b[38;5;66;03m# restore state no matter what (e.g., KeyboardInterrupt)\u001b[39;00m\n\u001b[1;32m    311\u001b[0m     \u001b[38;5;28;01mif\u001b[39;00m timeout \u001b[38;5;129;01mis\u001b[39;00m \u001b[38;5;28;01mNone\u001b[39;00m:\n\u001b[0;32m--> 312\u001b[0m         \u001b[43mwaiter\u001b[49m\u001b[38;5;241;43m.\u001b[39;49m\u001b[43macquire\u001b[49m\u001b[43m(\u001b[49m\u001b[43m)\u001b[49m\n\u001b[1;32m    313\u001b[0m         gotit \u001b[38;5;241m=\u001b[39m \u001b[38;5;28;01mTrue\u001b[39;00m\n\u001b[1;32m    314\u001b[0m     \u001b[38;5;28;01melse\u001b[39;00m:\n",
      "\u001b[0;31mKeyboardInterrupt\u001b[0m: "
     ]
    }
   ],
   "source": [
    "mus = np.linspace(0.0001,0.004,5)\n",
    "sigmas = np.linspace(0.000001, 0.20/365,5)\n",
    "alphas= np.linspace( 0.001, 1.6411, 5)\n",
    "betas= np.linspace(0.001, 0.0126, 5)\n",
    "\n",
    "combinations = it.product(mus, sigmas, alphas, betas, WSS, HS, REPETITIONS)\n",
    "total = len(mus) * len(sigmas) * len(alphas) * len(betas) * len(WSS) * len(HS) * len(REPETITIONS)\n",
    "\n",
    "simus = []\n",
    "for alpha, beta, mu, sigma, ws, h, iteration in tqdm.notebook.tqdm(combinations, total=total):\n",
    "    seed = np.random.randint(0, np.iinfo(int).max)\n",
    "    market = gp.datasets.make_risso_levy_stable(alpha=alpha, beta=beta, mu=mu, sigma=sigma, window_size=ws, entropy=h, \n",
    "                                           random_state=seed, n_jobs=N_JOBS, stocks=STOCKS)\n",
    "    simulation_data = { 'seed': seed,\n",
    "                      'mu': mu,\n",
    "                       'sigma': sigma,\n",
    "                       'alpha': alpha,\n",
    "                       'beta': beta,\n",
    "                       'window_size': ws,\n",
    "                       'entropy': h,\n",
    "                       'iteration': iteration,\n",
    "                       'market': market\n",
    "                      }\n",
    "    simus.append(simulation_data)\n",
    "\n",
    "jb.dump(simus, 'data/simu_levi.bz2', compress=9)\n",
    "del simus"
   ]
  },
  {
   "cell_type": "code",
   "execution_count": null,
   "id": "d8049d27-3dac-457f-b829-a4432965d97d",
   "metadata": {
    "tags": []
   },
   "outputs": [],
   "source": [
    "# #  alpha=1.6411, beta=-0.0126,    mu=0.0005,    sigma=0.005, analizar con los propuestos son mas extremos "
   ]
  }
 ],
 "metadata": {
  "kernelspec": {
   "display_name": "Python 3 (ipykernel)",
   "language": "python",
   "name": "python3"
  },
  "language_info": {
   "codemirror_mode": {
    "name": "ipython",
    "version": 3
   },
   "file_extension": ".py",
   "mimetype": "text/x-python",
   "name": "python",
   "nbconvert_exporter": "python",
   "pygments_lexer": "ipython3",
   "version": "3.9.5"
  }
 },
 "nbformat": 4,
 "nbformat_minor": 5
}
