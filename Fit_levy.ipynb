{
 "cells": [
  {
   "cell_type": "code",
   "execution_count": 1,
   "id": "24c91c13-1523-4070-8007-19d9ed824b8a",
   "metadata": {
    "tags": []
   },
   "outputs": [],
   "source": [
    "import garpar as gp\n",
    "import itertools as it\n",
    "import numpy as np\n",
    "import joblib as jb\n",
    "import tqdm.notebook\n",
    "import scipy \n",
    "import matplotlib.pyplot as plt\n",
    "import seaborn as sns"
   ]
  },
  {
   "cell_type": "markdown",
   "id": "a93776d0-99f2-4658-9f44-b7f9686471d2",
   "metadata": {
    "tags": []
   },
   "source": [
    "## Parámetros de la Levy desde una muestra aleatoria"
   ]
  },
  {
   "cell_type": "code",
   "execution_count": 2,
   "id": "c1d68ab2-50d1-4bd1-8955-e6b93fe4b67d",
   "metadata": {
    "tags": []
   },
   "outputs": [
    {
     "data": {
      "text/plain": [
       "(1.9999984435952447,\n",
       " -0.49651358600074247,\n",
       " 0.001057833438380435,\n",
       " 0.005331281405650185)"
      ]
     },
     "execution_count": 2,
     "metadata": {},
     "output_type": "execute_result"
    }
   ],
   "source": [
    "x = scipy.stats.levy_stable.rvs(alpha=2.0, beta=-0.0126, loc=0.0005, scale=0.005, size=100)\n",
    "alpha1, beta1, loc1, scale1 = scipy.stats.levy_stable.fit(x)\n",
    "alpha1, beta1, loc1, scale1\n"
   ]
  },
  {
   "cell_type": "markdown",
   "id": "c2fef40d-2309-4d2b-a32b-a21867437e34",
   "metadata": {
    "tags": []
   },
   "source": [
    "## Parámetros de Levy desde un año de Mercado Valores Argentino "
   ]
  },
  {
   "cell_type": "code",
   "execution_count": 3,
   "id": "61d984e2-cf2e-4697-9dfe-05cc0633b095",
   "metadata": {
    "tags": []
   },
   "outputs": [
    {
     "data": {
      "text/html": [
       "<div>\n",
       "<style scoped>\n",
       "    .dataframe tbody tr th:only-of-type {\n",
       "        vertical-align: middle;\n",
       "    }\n",
       "\n",
       "    .dataframe tbody tr th {\n",
       "        vertical-align: top;\n",
       "    }\n",
       "\n",
       "    .dataframe thead th {\n",
       "        text-align: right;\n",
       "    }\n",
       "</style>\n",
       "<table border=\"1\" class=\"dataframe\">\n",
       "  <thead>\n",
       "    <tr style=\"text-align: right;\">\n",
       "      <th>Stocks</th>\n",
       "      <th>ALUA</th>\n",
       "      <th>BBAR</th>\n",
       "      <th>BYMA</th>\n",
       "      <th>CEPU</th>\n",
       "      <th>COME</th>\n",
       "      <th>CRES</th>\n",
       "      <th>CVH</th>\n",
       "      <th>EDN</th>\n",
       "      <th>GGAL</th>\n",
       "      <th>HARG</th>\n",
       "      <th>...</th>\n",
       "      <th>MOLA</th>\n",
       "      <th>MOLI</th>\n",
       "      <th>MORI</th>\n",
       "      <th>OEST</th>\n",
       "      <th>PATA</th>\n",
       "      <th>POLL</th>\n",
       "      <th>RIGO</th>\n",
       "      <th>SAMI</th>\n",
       "      <th>SEMI</th>\n",
       "      <th>TGLT</th>\n",
       "    </tr>\n",
       "    <tr>\n",
       "      <th>Days</th>\n",
       "      <th></th>\n",
       "      <th></th>\n",
       "      <th></th>\n",
       "      <th></th>\n",
       "      <th></th>\n",
       "      <th></th>\n",
       "      <th></th>\n",
       "      <th></th>\n",
       "      <th></th>\n",
       "      <th></th>\n",
       "      <th></th>\n",
       "      <th></th>\n",
       "      <th></th>\n",
       "      <th></th>\n",
       "      <th></th>\n",
       "      <th></th>\n",
       "      <th></th>\n",
       "      <th></th>\n",
       "      <th></th>\n",
       "      <th></th>\n",
       "      <th></th>\n",
       "    </tr>\n",
       "  </thead>\n",
       "  <tbody>\n",
       "    <tr>\n",
       "      <th>2021-01-05</th>\n",
       "      <td>0.056995</td>\n",
       "      <td>-0.014122</td>\n",
       "      <td>-0.003331</td>\n",
       "      <td>0.039242</td>\n",
       "      <td>0.004132</td>\n",
       "      <td>0.027451</td>\n",
       "      <td>0.020047</td>\n",
       "      <td>-0.012456</td>\n",
       "      <td>0.003245</td>\n",
       "      <td>0.016598</td>\n",
       "      <td>...</td>\n",
       "      <td>0.028148</td>\n",
       "      <td>0.006873</td>\n",
       "      <td>0.046358</td>\n",
       "      <td>-0.001789</td>\n",
       "      <td>0.021505</td>\n",
       "      <td>0.076503</td>\n",
       "      <td>0.000000</td>\n",
       "      <td>0.000000</td>\n",
       "      <td>-0.010889</td>\n",
       "      <td>-0.006061</td>\n",
       "    </tr>\n",
       "    <tr>\n",
       "      <th>2021-01-06</th>\n",
       "      <td>0.035294</td>\n",
       "      <td>-0.012325</td>\n",
       "      <td>0.008354</td>\n",
       "      <td>-0.026042</td>\n",
       "      <td>0.008230</td>\n",
       "      <td>0.013740</td>\n",
       "      <td>0.035838</td>\n",
       "      <td>-0.007207</td>\n",
       "      <td>-0.004852</td>\n",
       "      <td>0.016327</td>\n",
       "      <td>...</td>\n",
       "      <td>0.011527</td>\n",
       "      <td>-0.010239</td>\n",
       "      <td>-0.006329</td>\n",
       "      <td>-0.017921</td>\n",
       "      <td>-0.026316</td>\n",
       "      <td>0.000000</td>\n",
       "      <td>0.015385</td>\n",
       "      <td>0.008475</td>\n",
       "      <td>0.023853</td>\n",
       "      <td>0.006098</td>\n",
       "    </tr>\n",
       "    <tr>\n",
       "      <th>2021-01-07</th>\n",
       "      <td>0.005682</td>\n",
       "      <td>-0.015514</td>\n",
       "      <td>-0.000829</td>\n",
       "      <td>-0.005348</td>\n",
       "      <td>-0.004082</td>\n",
       "      <td>0.038404</td>\n",
       "      <td>0.001116</td>\n",
       "      <td>-0.014519</td>\n",
       "      <td>0.006908</td>\n",
       "      <td>-0.006024</td>\n",
       "      <td>...</td>\n",
       "      <td>0.001425</td>\n",
       "      <td>-0.006897</td>\n",
       "      <td>0.054140</td>\n",
       "      <td>0.000000</td>\n",
       "      <td>0.000000</td>\n",
       "      <td>0.000000</td>\n",
       "      <td>0.030303</td>\n",
       "      <td>0.000000</td>\n",
       "      <td>0.109319</td>\n",
       "      <td>-0.012121</td>\n",
       "    </tr>\n",
       "    <tr>\n",
       "      <th>2021-01-08</th>\n",
       "      <td>0.005650</td>\n",
       "      <td>-0.002398</td>\n",
       "      <td>-0.000829</td>\n",
       "      <td>-0.013441</td>\n",
       "      <td>-0.012295</td>\n",
       "      <td>-0.015228</td>\n",
       "      <td>-0.125975</td>\n",
       "      <td>-0.009208</td>\n",
       "      <td>-0.010089</td>\n",
       "      <td>-0.004040</td>\n",
       "      <td>...</td>\n",
       "      <td>-0.001422</td>\n",
       "      <td>0.005787</td>\n",
       "      <td>-0.012085</td>\n",
       "      <td>-0.023723</td>\n",
       "      <td>-0.005405</td>\n",
       "      <td>0.000000</td>\n",
       "      <td>-0.011029</td>\n",
       "      <td>0.008403</td>\n",
       "      <td>-0.046850</td>\n",
       "      <td>-0.053170</td>\n",
       "    </tr>\n",
       "    <tr>\n",
       "      <th>2021-01-11</th>\n",
       "      <td>0.007491</td>\n",
       "      <td>-0.050137</td>\n",
       "      <td>-0.004149</td>\n",
       "      <td>-0.016349</td>\n",
       "      <td>-0.004149</td>\n",
       "      <td>0.002946</td>\n",
       "      <td>-0.019133</td>\n",
       "      <td>-0.040892</td>\n",
       "      <td>-0.019568</td>\n",
       "      <td>-0.012170</td>\n",
       "      <td>...</td>\n",
       "      <td>-0.027066</td>\n",
       "      <td>-0.016110</td>\n",
       "      <td>-0.024465</td>\n",
       "      <td>-0.009346</td>\n",
       "      <td>0.000000</td>\n",
       "      <td>-0.005076</td>\n",
       "      <td>-0.011152</td>\n",
       "      <td>0.008333</td>\n",
       "      <td>0.033898</td>\n",
       "      <td>0.010799</td>\n",
       "    </tr>\n",
       "    <tr>\n",
       "      <th>...</th>\n",
       "      <td>...</td>\n",
       "      <td>...</td>\n",
       "      <td>...</td>\n",
       "      <td>...</td>\n",
       "      <td>...</td>\n",
       "      <td>...</td>\n",
       "      <td>...</td>\n",
       "      <td>...</td>\n",
       "      <td>...</td>\n",
       "      <td>...</td>\n",
       "      <td>...</td>\n",
       "      <td>...</td>\n",
       "      <td>...</td>\n",
       "      <td>...</td>\n",
       "      <td>...</td>\n",
       "      <td>...</td>\n",
       "      <td>...</td>\n",
       "      <td>...</td>\n",
       "      <td>...</td>\n",
       "      <td>...</td>\n",
       "      <td>...</td>\n",
       "    </tr>\n",
       "    <tr>\n",
       "      <th>2021-12-23</th>\n",
       "      <td>0.024202</td>\n",
       "      <td>0.020322</td>\n",
       "      <td>0.031205</td>\n",
       "      <td>0.029366</td>\n",
       "      <td>0.001681</td>\n",
       "      <td>0.000996</td>\n",
       "      <td>0.021193</td>\n",
       "      <td>0.024510</td>\n",
       "      <td>0.003778</td>\n",
       "      <td>0.004280</td>\n",
       "      <td>...</td>\n",
       "      <td>0.016570</td>\n",
       "      <td>0.012295</td>\n",
       "      <td>-0.024922</td>\n",
       "      <td>0.048493</td>\n",
       "      <td>0.056319</td>\n",
       "      <td>0.000000</td>\n",
       "      <td>-0.006579</td>\n",
       "      <td>-0.001786</td>\n",
       "      <td>0.005025</td>\n",
       "      <td>0.008021</td>\n",
       "    </tr>\n",
       "    <tr>\n",
       "      <th>2021-12-27</th>\n",
       "      <td>-0.008593</td>\n",
       "      <td>0.019689</td>\n",
       "      <td>-0.017691</td>\n",
       "      <td>-0.010511</td>\n",
       "      <td>0.028523</td>\n",
       "      <td>-0.056716</td>\n",
       "      <td>-0.039969</td>\n",
       "      <td>0.029665</td>\n",
       "      <td>0.004266</td>\n",
       "      <td>-0.036932</td>\n",
       "      <td>...</td>\n",
       "      <td>0.029956</td>\n",
       "      <td>0.000000</td>\n",
       "      <td>0.012780</td>\n",
       "      <td>0.018750</td>\n",
       "      <td>-0.016905</td>\n",
       "      <td>-0.024299</td>\n",
       "      <td>0.000000</td>\n",
       "      <td>0.016100</td>\n",
       "      <td>0.000000</td>\n",
       "      <td>-0.013263</td>\n",
       "    </tr>\n",
       "    <tr>\n",
       "      <th>2021-12-28</th>\n",
       "      <td>-0.050921</td>\n",
       "      <td>-0.049394</td>\n",
       "      <td>-0.032227</td>\n",
       "      <td>-0.042489</td>\n",
       "      <td>0.001631</td>\n",
       "      <td>0.007911</td>\n",
       "      <td>-0.013611</td>\n",
       "      <td>-0.036245</td>\n",
       "      <td>-0.034733</td>\n",
       "      <td>-0.022124</td>\n",
       "      <td>...</td>\n",
       "      <td>0.028229</td>\n",
       "      <td>0.004049</td>\n",
       "      <td>0.000000</td>\n",
       "      <td>-0.019632</td>\n",
       "      <td>-0.010582</td>\n",
       "      <td>-0.007663</td>\n",
       "      <td>0.000000</td>\n",
       "      <td>-0.019366</td>\n",
       "      <td>0.001667</td>\n",
       "      <td>0.008065</td>\n",
       "    </tr>\n",
       "    <tr>\n",
       "      <th>2021-12-29</th>\n",
       "      <td>0.046804</td>\n",
       "      <td>0.056684</td>\n",
       "      <td>0.007346</td>\n",
       "      <td>0.045166</td>\n",
       "      <td>0.017915</td>\n",
       "      <td>-0.007849</td>\n",
       "      <td>0.008929</td>\n",
       "      <td>0.004822</td>\n",
       "      <td>0.019933</td>\n",
       "      <td>0.034691</td>\n",
       "      <td>...</td>\n",
       "      <td>0.014975</td>\n",
       "      <td>-0.016129</td>\n",
       "      <td>-0.009464</td>\n",
       "      <td>0.021277</td>\n",
       "      <td>0.001337</td>\n",
       "      <td>0.007722</td>\n",
       "      <td>0.013245</td>\n",
       "      <td>0.023339</td>\n",
       "      <td>-0.009983</td>\n",
       "      <td>-0.018667</td>\n",
       "    </tr>\n",
       "    <tr>\n",
       "      <th>2021-12-30</th>\n",
       "      <td>0.014177</td>\n",
       "      <td>0.002682</td>\n",
       "      <td>0.011181</td>\n",
       "      <td>-0.020470</td>\n",
       "      <td>0.025600</td>\n",
       "      <td>0.037447</td>\n",
       "      <td>-0.033789</td>\n",
       "      <td>0.095010</td>\n",
       "      <td>-0.008376</td>\n",
       "      <td>-0.001458</td>\n",
       "      <td>...</td>\n",
       "      <td>0.000000</td>\n",
       "      <td>0.016393</td>\n",
       "      <td>-0.006369</td>\n",
       "      <td>0.001225</td>\n",
       "      <td>0.032043</td>\n",
       "      <td>0.000000</td>\n",
       "      <td>0.000000</td>\n",
       "      <td>0.033333</td>\n",
       "      <td>0.028571</td>\n",
       "      <td>0.010870</td>\n",
       "    </tr>\n",
       "  </tbody>\n",
       "</table>\n",
       "<p>240 rows × 52 columns</p>\n",
       "</div>"
      ],
      "text/plain": [
       "Stocks          ALUA      BBAR      BYMA      CEPU      COME      CRES   \n",
       "Days                                                                     \n",
       "2021-01-05  0.056995 -0.014122 -0.003331  0.039242  0.004132  0.027451  \\\n",
       "2021-01-06  0.035294 -0.012325  0.008354 -0.026042  0.008230  0.013740   \n",
       "2021-01-07  0.005682 -0.015514 -0.000829 -0.005348 -0.004082  0.038404   \n",
       "2021-01-08  0.005650 -0.002398 -0.000829 -0.013441 -0.012295 -0.015228   \n",
       "2021-01-11  0.007491 -0.050137 -0.004149 -0.016349 -0.004149  0.002946   \n",
       "...              ...       ...       ...       ...       ...       ...   \n",
       "2021-12-23  0.024202  0.020322  0.031205  0.029366  0.001681  0.000996   \n",
       "2021-12-27 -0.008593  0.019689 -0.017691 -0.010511  0.028523 -0.056716   \n",
       "2021-12-28 -0.050921 -0.049394 -0.032227 -0.042489  0.001631  0.007911   \n",
       "2021-12-29  0.046804  0.056684  0.007346  0.045166  0.017915 -0.007849   \n",
       "2021-12-30  0.014177  0.002682  0.011181 -0.020470  0.025600  0.037447   \n",
       "\n",
       "Stocks           CVH       EDN      GGAL      HARG  ...      MOLA      MOLI   \n",
       "Days                                                ...                       \n",
       "2021-01-05  0.020047 -0.012456  0.003245  0.016598  ...  0.028148  0.006873  \\\n",
       "2021-01-06  0.035838 -0.007207 -0.004852  0.016327  ...  0.011527 -0.010239   \n",
       "2021-01-07  0.001116 -0.014519  0.006908 -0.006024  ...  0.001425 -0.006897   \n",
       "2021-01-08 -0.125975 -0.009208 -0.010089 -0.004040  ... -0.001422  0.005787   \n",
       "2021-01-11 -0.019133 -0.040892 -0.019568 -0.012170  ... -0.027066 -0.016110   \n",
       "...              ...       ...       ...       ...  ...       ...       ...   \n",
       "2021-12-23  0.021193  0.024510  0.003778  0.004280  ...  0.016570  0.012295   \n",
       "2021-12-27 -0.039969  0.029665  0.004266 -0.036932  ...  0.029956  0.000000   \n",
       "2021-12-28 -0.013611 -0.036245 -0.034733 -0.022124  ...  0.028229  0.004049   \n",
       "2021-12-29  0.008929  0.004822  0.019933  0.034691  ...  0.014975 -0.016129   \n",
       "2021-12-30 -0.033789  0.095010 -0.008376 -0.001458  ...  0.000000  0.016393   \n",
       "\n",
       "Stocks          MORI      OEST      PATA      POLL      RIGO      SAMI   \n",
       "Days                                                                     \n",
       "2021-01-05  0.046358 -0.001789  0.021505  0.076503  0.000000  0.000000  \\\n",
       "2021-01-06 -0.006329 -0.017921 -0.026316  0.000000  0.015385  0.008475   \n",
       "2021-01-07  0.054140  0.000000  0.000000  0.000000  0.030303  0.000000   \n",
       "2021-01-08 -0.012085 -0.023723 -0.005405  0.000000 -0.011029  0.008403   \n",
       "2021-01-11 -0.024465 -0.009346  0.000000 -0.005076 -0.011152  0.008333   \n",
       "...              ...       ...       ...       ...       ...       ...   \n",
       "2021-12-23 -0.024922  0.048493  0.056319  0.000000 -0.006579 -0.001786   \n",
       "2021-12-27  0.012780  0.018750 -0.016905 -0.024299  0.000000  0.016100   \n",
       "2021-12-28  0.000000 -0.019632 -0.010582 -0.007663  0.000000 -0.019366   \n",
       "2021-12-29 -0.009464  0.021277  0.001337  0.007722  0.013245  0.023339   \n",
       "2021-12-30 -0.006369  0.001225  0.032043  0.000000  0.000000  0.033333   \n",
       "\n",
       "Stocks          SEMI      TGLT  \n",
       "Days                            \n",
       "2021-01-05 -0.010889 -0.006061  \n",
       "2021-01-06  0.023853  0.006098  \n",
       "2021-01-07  0.109319 -0.012121  \n",
       "2021-01-08 -0.046850 -0.053170  \n",
       "2021-01-11  0.033898  0.010799  \n",
       "...              ...       ...  \n",
       "2021-12-23  0.005025  0.008021  \n",
       "2021-12-27  0.000000 -0.013263  \n",
       "2021-12-28  0.001667  0.008065  \n",
       "2021-12-29 -0.009983 -0.018667  \n",
       "2021-12-30  0.028571  0.010870  \n",
       "\n",
       "[240 rows x 52 columns]"
      ]
     },
     "execution_count": 3,
     "metadata": {},
     "output_type": "execute_result"
    }
   ],
   "source": [
    "merval21 = gp.datasets.load_MERVAL(\n",
    "    first=\"01-02-2021\", last = \"12-31-2021\")\n",
    "merval21 = merval21.as_returns()\n",
    "merval21"
   ]
  },
  {
   "cell_type": "code",
   "execution_count": 4,
   "id": "4b331cb9-e313-48f4-9179-60ee9a110d11",
   "metadata": {
    "tags": []
   },
   "outputs": [
    {
     "data": {
      "text/plain": [
       "Stocks\n",
       "ALUA     0.003034\n",
       "BBAR     0.002111\n",
       "BYMA     0.002487\n",
       "CEPU     0.002874\n",
       "COME     0.004394\n",
       "CRES     0.002372\n",
       "CVH      0.001886\n",
       "EDN      0.003411\n",
       "GGAL     0.002302\n",
       "HARG     0.001710\n",
       "MIRG     0.003881\n",
       "PAMP     0.003631\n",
       "SUPV     0.001665\n",
       "TECO2    0.000576\n",
       "TGNO4    0.003871\n",
       "TGSU2    0.001023\n",
       "TRAN     0.002961\n",
       "TXAR     0.004134\n",
       "YPFD     0.001129\n",
       "AGRO     0.003768\n",
       "AUSO     0.002325\n",
       "BHIP    -0.000061\n",
       "BOLT     0.000204\n",
       "BPAT     0.000955\n",
       "CADO     0.001365\n",
       "CELU     0.000092\n",
       "CGPA2    0.003669\n",
       "DGCU2    0.003301\n",
       "DYCA     0.002574\n",
       "FERR     0.001701\n",
       "FIPL     0.003082\n",
       "GARO     0.004311\n",
       "GBAN     0.003884\n",
       "GCLA     0.005292\n",
       "GRIM     0.005866\n",
       "HAVA     0.001192\n",
       "INVJ     0.000855\n",
       "IRCP    -0.000682\n",
       "IRSA     0.001648\n",
       "LEDE     0.003289\n",
       "LONG     0.001845\n",
       "METR     0.003418\n",
       "MOLA     0.002690\n",
       "MOLI     0.001669\n",
       "MORI     0.000382\n",
       "OEST     0.001820\n",
       "PATA     0.000346\n",
       "POLL     0.005035\n",
       "RIGO     0.000950\n",
       "SAMI     0.001134\n",
       "SEMI     0.000623\n",
       "TGLT    -0.000923\n",
       "dtype: float64"
      ]
     },
     "execution_count": 4,
     "metadata": {},
     "output_type": "execute_result"
    }
   ],
   "source": [
    "y21 = merval21.mean(axis = 0, skipna = True)\n",
    "y21"
   ]
  },
  {
   "cell_type": "code",
   "execution_count": 5,
   "id": "2082f90c-9505-45a4-be52-e03c23142bf8",
   "metadata": {
    "tags": []
   },
   "outputs": [
    {
     "data": {
      "text/plain": [
       "(2.0, 1.0, 0.0022513892259879527, 0.001210912700436551)"
      ]
     },
     "execution_count": 5,
     "metadata": {},
     "output_type": "execute_result"
    }
   ],
   "source": [
    "y21 = merval21.mean(axis = 0, skipna = True) \n",
    "alpha1, beta1, loc1, scale1 = scipy.stats.levy_stable.fit(y21)\n",
    "alpha1, beta1, loc1, scale1"
   ]
  },
  {
   "cell_type": "code",
   "execution_count": 6,
   "id": "a03e68a6-1dc3-4f59-b263-460fbf0cfc64",
   "metadata": {
    "tags": []
   },
   "outputs": [],
   "source": [
    "# definimos los sectores \n",
    "come = [\"AUSO\", \"BOLT\", \"DYCA\",\"GCLA\", \"IRCP\", \"IRSA\", \"OEST\", \"PATA\", \"POLL\",\"TECO2\",\"CVH\"] \n",
    "moa = [\"CELU\", \"GRIM\", \"HAVA\", \"LEDE\", \"MOLA\", \"MOLI\", \"MORI\", \"SAMI\", \"SEMI\"] #\"INTR\"\n",
    "moi = [\"AGRO\", \"ALUA\",  \"FERR\", \"LONG\", \"RIGO\", \"HARG\", \"FIPL\"] # \"ROSE\", \"LOMA\", \"CAPU\",\"MIRG\",\"TXAR \"\n",
    "agro = [\"CADO\", \"GARO\", \"INVJ\",\"CRES\"] #\"ESME\"\n",
    "ene = [\"CEPU\", \"CGPA2\", \"DGCU2\", \"GBAN\", \"METR\", \"TGNO4\", \"TGSU2\", \"YPFD\", \"PAMP\",\"TRAN\",\"COME\",\"EDN\",\"GBAN\" ]  #\"CARC\",\n",
    "fin = [\"BHIP\", \"BPAT\",  \"BYMA\", \"GGAL\", \"SUPV\", \"BBAR\"] #\"BMA\", \"VALO\", \"BRIO\",\"BRIO6\","
   ]
  },
  {
   "cell_type": "code",
   "execution_count": 7,
   "id": "f34a5e98-6c4a-4858-a6b3-4702dc1b2c74",
   "metadata": {
    "tags": []
   },
   "outputs": [
    {
     "data": {
      "text/plain": [
       "(1.8190316218403773,\n",
       " 0.4503142299590916,\n",
       " 0.0021742929768565605,\n",
       " 0.00834763566037715)"
      ]
     },
     "execution_count": 7,
     "metadata": {},
     "output_type": "execute_result"
    }
   ],
   "source": [
    "y21scome = merval21[come].mean(axis = 1, skipna = True) \n",
    "alpha_come, beta_come, loc_come, scale_come = scipy.stats.levy_stable.fit(y21scome)\n",
    "alpha_come, beta_come, loc_come, scale_come "
   ]
  },
  {
   "cell_type": "code",
   "execution_count": 41,
   "id": "326aebf3-559a-4765-b02e-493c72599be6",
   "metadata": {},
   "outputs": [
    {
     "data": {
      "text/plain": [
       "KstestResult(statistic=0.025461714825871007, pvalue=0.9967036546261379, statistic_location=0.010164345043233804, statistic_sign=1)"
      ]
     },
     "execution_count": 41,
     "metadata": {},
     "output_type": "execute_result"
    }
   ],
   "source": [
    "ktestcom = scipy.stats.ks_1samp(x=y21scome, cdf=scipy.stats.levy_stable.cdf, args=(alpha_come, beta_come, loc_come, scale_come ))\n",
    "ktestcom"
   ]
  },
  {
   "cell_type": "code",
   "execution_count": 50,
   "id": "3c9e3820-5ed3-4657-bff0-143095423f2e",
   "metadata": {
    "tags": []
   },
   "outputs": [
    {
     "data": {
      "text/plain": [
       "(1.9999999999999991,\n",
       " -0.9999999999999998,\n",
       " 0.0021527853033436115,\n",
       " 0.007323718974539857)"
      ]
     },
     "execution_count": 50,
     "metadata": {},
     "output_type": "execute_result"
    }
   ],
   "source": [
    "y21smoa = merval21[moa].mean(axis = 1, skipna = True) \n",
    "alphamoa, betamoa, locmoa, scalemoa = scipy.stats.levy_stable.fit(y21smoa)\n",
    "alphamoa, betamoa, locmoa, scalemoa"
   ]
  },
  {
   "cell_type": "code",
   "execution_count": 40,
   "id": "a60088ff-d0c0-479b-ace1-238a693b9df4",
   "metadata": {},
   "outputs": [
    {
     "data": {
      "text/plain": [
       "KstestResult(statistic=0.052755722594221455, pvalue=0.49962670806675147, statistic_location=0.010466055474004933, statistic_sign=1)"
      ]
     },
     "execution_count": 40,
     "metadata": {},
     "output_type": "execute_result"
    }
   ],
   "source": [
    "ktestmoa = scipy.stats.ks_1samp(x=y21smoa, cdf=scipy.stats.levy_stable.cdf, args=(alphamoa, betamoa, locmoa, scalemoa))\n",
    "ktestmoa"
   ]
  },
  {
   "cell_type": "code",
   "execution_count": 11,
   "id": "00a25099-ec3a-4509-865e-542ac261cedf",
   "metadata": {
    "tags": []
   },
   "outputs": [
    {
     "data": {
      "text/plain": [
       "(2.0, 1.0, 0.002861928175619074, 0.00888794710133814)"
      ]
     },
     "execution_count": 11,
     "metadata": {},
     "output_type": "execute_result"
    }
   ],
   "source": [
    "y21smoi = merval21[moi].mean(axis = 1, skipna = True) \n",
    "alphamoi, betamoi, locmoi, scalemoi = scipy.stats.levy_stable.fit(y21smoi)\n",
    "alphamoi, betamoi, locmoi, scalemoi"
   ]
  },
  {
   "cell_type": "code",
   "execution_count": 39,
   "id": "89458c76-664e-4607-82cd-45743fedfb21",
   "metadata": {},
   "outputs": [
    {
     "data": {
      "text/plain": [
       "KstestResult(statistic=0.03591666575291125, pvalue=0.9050647533708039, statistic_location=-0.006053012350894235, statistic_sign=1)"
      ]
     },
     "execution_count": 39,
     "metadata": {},
     "output_type": "execute_result"
    }
   ],
   "source": [
    "ktestmoi=scipy.stats.ks_1samp(x=y21smoi, cdf=scipy.stats.levy_stable.cdf, args=(alphamoi, betamoi, locmoi, scalemoi))\n",
    "ktestmoi"
   ]
  },
  {
   "cell_type": "code",
   "execution_count": 13,
   "id": "377ce706-232e-44ac-ab21-5bddedc8fabd",
   "metadata": {
    "tags": []
   },
   "outputs": [
    {
     "data": {
      "text/plain": [
       "(1.7918750041895795,\n",
       " 0.23881535080290872,\n",
       " 0.002009024615225637,\n",
       " 0.009778580052196851)"
      ]
     },
     "execution_count": 13,
     "metadata": {},
     "output_type": "execute_result"
    }
   ],
   "source": [
    "y21sagro = merval21[agro].mean(axis = 1, skipna = True) \n",
    "alphaagro, betaagro, locagro, scaleagro = scipy.stats.levy_stable.fit(y21sagro)\n",
    "alphaagro, betaagro, locagro, scaleagro"
   ]
  },
  {
   "cell_type": "code",
   "execution_count": 38,
   "id": "5e1cd073-fe50-4cdc-9a3c-07ad701e4a27",
   "metadata": {},
   "outputs": [
    {
     "data": {
      "text/plain": [
       "KstestResult(statistic=0.039353973656518826, pvalue=0.8367294853450916, statistic_location=0.0020767034590011, statistic_sign=-1)"
      ]
     },
     "execution_count": 38,
     "metadata": {},
     "output_type": "execute_result"
    }
   ],
   "source": [
    "ktestagro =scipy.stats.ks_1samp(x=y21sagro, cdf=scipy.stats.levy_stable.cdf, args=(alphaagro, betaagro, locagro, scaleagro))\n",
    "ktestagro "
   ]
  },
  {
   "cell_type": "code",
   "execution_count": 15,
   "id": "8adc1f9e-f594-4a5e-92e2-45cf1e714fea",
   "metadata": {
    "tags": []
   },
   "outputs": [
    {
     "data": {
      "text/plain": [
       "(1.7421799494474097,\n",
       " 0.4759121392451602,\n",
       " 0.0035093258371752126,\n",
       " 0.011599771620047423)"
      ]
     },
     "execution_count": 15,
     "metadata": {},
     "output_type": "execute_result"
    }
   ],
   "source": [
    "y21sene = merval21[ene].mean(axis = 1, skipna = True) \n",
    "alphaene, betaene, locene, scaleene = scipy.stats.levy_stable.fit(y21sene)\n",
    "alphaene, betaene, locene, scaleene"
   ]
  },
  {
   "cell_type": "code",
   "execution_count": 36,
   "id": "90c48115-199e-48d4-bb5c-821d77e2c96f",
   "metadata": {},
   "outputs": [
    {
     "data": {
      "text/plain": [
       "KstestResult(statistic=0.03572499502454479, pvalue=0.9083627613731279, statistic_location=-0.010949555441387785, statistic_sign=-1)"
      ]
     },
     "execution_count": 36,
     "metadata": {},
     "output_type": "execute_result"
    }
   ],
   "source": [
    "ktestene= scipy.stats.ks_1samp(x=y21sene, cdf=scipy.stats.levy_stable.cdf, args=(alphaene, betaene, locene, scaleene))\n",
    "ktestene"
   ]
  },
  {
   "cell_type": "code",
   "execution_count": 17,
   "id": "f38ebd9c-21ad-458d-8c10-aca9d1d37493",
   "metadata": {
    "tags": []
   },
   "outputs": [
    {
     "data": {
      "text/plain": [
       "(1.8630914086054906,\n",
       " 0.3745869387265307,\n",
       " 0.0017691490461231897,\n",
       " 0.012737154151075864)"
      ]
     },
     "execution_count": 17,
     "metadata": {},
     "output_type": "execute_result"
    }
   ],
   "source": [
    "y21sfin = merval21[fin].mean(axis = 1, skipna = True) \n",
    "alphafin, betafin, locfin, scalefin = scipy.stats.levy_stable.fit(y21sfin)\n",
    "alphafin, betafin, locfin, scalefin"
   ]
  },
  {
   "cell_type": "code",
   "execution_count": 33,
   "id": "4063d7df-5ede-4277-a407-9757ca1426c2",
   "metadata": {
    "tags": []
   },
   "outputs": [
    {
     "data": {
      "text/plain": [
       "KstestResult(statistic=0.04049794063373313, pvalue=0.8107162618149142, statistic_location=-0.0035419046569829526, statistic_sign=1)"
      ]
     },
     "execution_count": 33,
     "metadata": {},
     "output_type": "execute_result"
    }
   ],
   "source": [
    "ktestfin=scipy.stats.ks_1samp(x=y21sfin, cdf=scipy.stats.levy_stable.cdf, args=(alphafin, betafin, locfin, scalefin))\n",
    "ktestfin"
   ]
  },
  {
   "cell_type": "code",
   "execution_count": 19,
   "id": "3fc199e3-bbb0-43ef-bfaf-e3b80835e463",
   "metadata": {
    "tags": []
   },
   "outputs": [
    {
     "data": {
      "text/plain": [
       "(1.8128170393712963,\n",
       " 0.3392396471308702,\n",
       " 0.002412045077898315,\n",
       " 0.007927153418948544)"
      ]
     },
     "execution_count": 19,
     "metadata": {},
     "output_type": "execute_result"
    }
   ],
   "source": [
    "y21s = merval21.mean(axis = 1, skipna = True) \n",
    "alphat, betat, loct, scalet = scipy.stats.levy_stable.fit(y21s)\n",
    "alphat, betat, loct, scalet"
   ]
  },
  {
   "cell_type": "code",
   "execution_count": 25,
   "id": "cc11d40c-2aab-4793-b3b9-0fcf7e517905",
   "metadata": {
    "tags": []
   },
   "outputs": [
    {
     "data": {
      "text/plain": [
       "KstestResult(statistic=0.03837006964829409, pvalue=0.8579258105755009, statistic_location=-0.002157593522697817, statistic_sign=1)"
      ]
     },
     "execution_count": 25,
     "metadata": {},
     "output_type": "execute_result"
    }
   ],
   "source": [
    "ktestt= scipy.stats.ks_1samp(x=y21s, cdf=scipy.stats.levy_stable.cdf, args=(alphat, betat, loct, scalet))\n",
    "ktestt"
   ]
  },
  {
   "cell_type": "code",
   "execution_count": 78,
   "id": "ebd5459e-139e-477b-8ac1-1b36a7254b54",
   "metadata": {
    "tags": []
   },
   "outputs": [
    {
     "data": {
      "image/png": "[encoded data removed]",
      "text/plain": [
       "<Figure size 2000x800 with 8 Axes>"
      ]
     },
     "metadata": {},
     "output_type": "display_data"
    }
   ],
   "source": [
    "fig, ax = plt.subplots(2, 4, sharey=True, sharex=True)\n",
    "fig.set_size_inches(20, 8)\n",
    "#todo\n",
    "alpha, beta, loc, scale = alphat, betat, loct, scalet\n",
    "x = np.linspace(scipy.stats.levy_stable.ppf(0.01, alpha, beta, loc, scale),\n",
    "                scipy.stats.levy_stable.ppf(0.99, alpha, beta, loc, scale), 100)\n",
    "ax[0,0].plot(x, scipy.stats.levy_stable.pdf(x, alpha, beta,loc,scale),'r-', lw=5, alpha=0.6, label='levy_stable pdf')\n",
    "sns.histplot(ax=ax[0,0],data=y21s,stat = \"density\",kde=True)\n",
    "ax[0,0].set_title(f\"Total Market - Pvalue KS test= {ktestt.pvalue:.2f}\")\n",
    "#come\n",
    "alpha, beta, loc, scale = alpha_come, beta_come, loc_come, scale_come \n",
    "x = np.linspace(scipy.stats.levy_stable.ppf(0.01, alpha, beta, loc, scale),\n",
    "                scipy.stats.levy_stable.ppf(0.99, alpha, beta, loc, scale), 100)\n",
    "ax[0,1].plot(x, scipy.stats.levy_stable.pdf(x, alpha, beta,loc,scale),'r-', lw=5, alpha=0.6, label='levy_stable pdf')\n",
    "sns.histplot(ax=ax[0,1],data=y21scome, stat = \"density\",kde=True)\n",
    "ax[0,1].set_title(f\"Comercial Sector - Pvalue KS test={ktestcom.pvalue:.2f}\")\n",
    "#moa\n",
    "alpha, beta, loc, scale = alphamoa, betamoa, locmoa, scalemoa\n",
    "x = np.linspace(scipy.stats.levy_stable.ppf(0.01, alpha, beta, loc, scale),\n",
    "                scipy.stats.levy_stable.ppf(0.99, alpha, beta, loc, scale), 100)\n",
    "ax[0,2].plot(x, scipy.stats.levy_stable.pdf(x, alpha, beta,loc,scale),'r-', lw=5, alpha=0.6, label='levy_stable pdf')\n",
    "sns.histplot(ax=ax[0,2],data=y21smoa, stat = \"density\",kde=True)\n",
    "ax[0,2].set_title(f\"MOA Sector - Pvalue KS test={ktestmoa.pvalue:.2f}\")\n",
    "ax[0,2].legend(title=fr\"$\n",
    "               \\alpha=${alphamoa:.1f} $\\beta=${betamoa:.1f} $\\mu=${locmoa:.3f} $\\sigma=${scalemoa:.3f}\", title_fontsize = \"8.5\")\n",
    "\n",
    "#moi\n",
    "alpha, beta, loc, scale = alphamoi, betamoi, locmoi, scalemoi\n",
    "x = np.linspace(scipy.stats.levy_stable.ppf(0.01, alpha, beta, loc, scale),\n",
    "                scipy.stats.levy_stable.ppf(0.99, alpha, beta, loc, scale), 100)\n",
    "ax[0,3].plot(x, scipy.stats.levy_stable.pdf(x, alpha, beta,loc,scale),'r-', lw=5, alpha=0.6, label='levy_stable pdf')\n",
    "sns.histplot(ax=ax[0,3],data=y21smoi, stat = \"density\",kde=True)\n",
    "ax[0,3].set_title(f\"MOI Sector - Pvalue KS test={ktestmoi.pvalue:.2f}\" )\n",
    "#agro\n",
    "alpha, beta, loc, scale = alphaagro, betaagro, locagro, scaleagro\n",
    "x = np.linspace(scipy.stats.levy_stable.ppf(0.01, alpha, beta, loc, scale),\n",
    "                scipy.stats.levy_stable.ppf(0.99, alpha, beta, loc, scale), 100)\n",
    "ax[1,0].plot(x, scipy.stats.levy_stable.pdf(x, alpha, beta,loc,scale),'r-', lw=5, alpha=0.6, label='levy_stable pdf')\n",
    "sns.histplot(ax=ax[1,0],data=y21sagro, stat = \"density\",kde=True)\n",
    "ax[1,0].set_title(f\"AGRO Sector - Pvalue KS test={ktestagro.pvalue:.2f}\")\n",
    "#ene\n",
    "alpha, beta, loc, scale = alphaene, betaene, locene, scaleene\n",
    "x = np.linspace(scipy.stats.levy_stable.ppf(0.01, alpha, beta, loc, scale),\n",
    "                scipy.stats.levy_stable.ppf(0.99, alpha, beta, loc, scale), 100)\n",
    "ax[1,1].plot(x, scipy.stats.levy_stable.pdf(x, alpha, beta,loc,scale),'r-', lw=5, alpha=0.6, label='levy_stable pdf')\n",
    "sns.histplot(ax=ax[1,1],data=y21sene, stat = \"density\",kde=True)\n",
    "ax[1,1].set_title(f\"ENE Sector - Pvalue KS test={ktestene.pvalue:.2f}\")\n",
    "\n",
    "#FIN\n",
    "alpha, beta, loc, scale = alphafin, betafin, locfin, scalefin\n",
    "x = np.linspace(scipy.stats.levy_stable.ppf(0.01, alpha, beta, loc, scale),\n",
    "                scipy.stats.levy_stable.ppf(0.99, alpha, beta, loc, scale), 100)\n",
    "ax[1,2].plot(x, scipy.stats.levy_stable.pdf(x, alpha, beta,loc,scale),'r-', lw=5, alpha=0.6, label='levy_stable pdf')\n",
    "sns.histplot(ax=ax[1,2],data=y21sfin, stat = \"density\",kde=True)\n",
    "ax[1,2].set_title(f\"FIN Sector -  Pvalue KS test={ktestfin.pvalue:.2f}\")\n",
    "ax[1,3].set_title(\"2021\")\n",
    "fig.tight_layout()\n",
    "\n",
    "\n",
    "# blue line is empirical data and red line is teorical data of the goodness fit"
   ]
  },
  {
   "cell_type": "markdown",
   "id": "7b9ae094-29ae-46b8-85e1-575984220160",
   "metadata": {},
   "source": [
    "Año 21    | Total                | Comercial              | MOA                   | MOI                     | AGRO                    | ENE                     | FIN                     |\n",
    "|-------|------------------------|------------------------|-----------------------|-------------------------|-------------------------|-------------------------|-------------------------|\n",
    "| alpha | 1.8128170393712963     | 1.7808811279069312     | 1.9999999999999991    | 1.949136710901894       |1.7596575607314175       |1.7053902636562444       |1.7153474968904008       |\n",
    "| beta  | 0.3392396471308702     | 0.3534688249115768     | -0.9999999999999998   |  0.5278039611512102     |0.31821908297498924      |0.7742516124473384       |0.431775605826474        |\n",
    "| loc   |0.002412045077898315    | 0.0023534096696979723  | 0.0021527853033436115 |  0.0021583577265823204  | 0.0018117626731931988   |0.0040621444390737185    |0.0007622504126380711    |\n",
    "| scale | 0.007927153418948544   |  0.008182377166796722  | 0.007323718974539857  | 0.009352974587930479    | 0.008511457165211928    |0.012050605736389379     |0.008937680565895539     |\n"
   ]
  },
  {
   "cell_type": "code",
   "execution_count": 43,
   "id": "fb3d0ce2-314a-4982-a5a4-e14ec60bc4ff",
   "metadata": {
    "tags": []
   },
   "outputs": [],
   "source": [
    "merval20 = gp.datasets.load_MERVAL(\n",
    "    first=\"01-02-2020\", last = \"12-31-2020\")\n",
    "merval20 = merval20.as_returns()\n",
    "\n"
   ]
  },
  {
   "cell_type": "code",
   "execution_count": 44,
   "id": "2b8ae0dd-987c-4d77-8f43-7f7ee3055188",
   "metadata": {
    "tags": []
   },
   "outputs": [
    {
     "data": {
      "text/plain": [
       "(1.606068031148807,\n",
       " -0.014170674070088764,\n",
       " 0.001753196459273034,\n",
       " 0.010583759011642931)"
      ]
     },
     "execution_count": 44,
     "metadata": {},
     "output_type": "execute_result"
    }
   ],
   "source": [
    "y20scome = merval20[come].mean(axis = 1, skipna = True) \n",
    "alpha_come, beta_come, loc_come, scale_come = scipy.stats.levy_stable.fit(y20scome)\n",
    "alpha_come, beta_come, loc_come, scale_come "
   ]
  },
  {
   "cell_type": "code",
   "execution_count": 45,
   "id": "e9f13294-c379-4236-be91-480281b0d6a7",
   "metadata": {
    "tags": []
   },
   "outputs": [
    {
     "data": {
      "text/plain": [
       "KstestResult(statistic=0.032354251263514044, pvalue=0.9561381896681697, statistic_location=0.0003141795446120527, statistic_sign=1)"
      ]
     },
     "execution_count": 45,
     "metadata": {},
     "output_type": "execute_result"
    }
   ],
   "source": [
    "ktestcom =scipy.stats.ks_1samp(x=y20scome, cdf=scipy.stats.levy_stable.cdf, args=(alpha_come, beta_come, loc_come, scale_come ))\n",
    "ktestcom"
   ]
  },
  {
   "cell_type": "code",
   "execution_count": 46,
   "id": "078a8091-268f-4407-ac82-caaaf928edf2",
   "metadata": {
    "tags": []
   },
   "outputs": [
    {
     "data": {
      "text/plain": [
       "(1.6336213658969079,\n",
       " 0.10465851852609709,\n",
       " 0.00235355697136074,\n",
       " 0.011398936158531634)"
      ]
     },
     "execution_count": 46,
     "metadata": {},
     "output_type": "execute_result"
    }
   ],
   "source": [
    "y20smoa = merval20[moa].mean(axis = 1, skipna = True) \n",
    "alphamoa, betamoa, locmoa, scalemoa = scipy.stats.levy_stable.fit(y20smoa)\n",
    "alphamoa, betamoa, locmoa, scalemoa"
   ]
  },
  {
   "cell_type": "code",
   "execution_count": 47,
   "id": "9f4daf39-62c1-4359-b042-4592091d11c0",
   "metadata": {
    "tags": []
   },
   "outputs": [
    {
     "data": {
      "text/plain": [
       "KstestResult(statistic=0.06427058628694104, pvalue=0.2632338384016789, statistic_location=0.008727503573810826, statistic_sign=1)"
      ]
     },
     "execution_count": 47,
     "metadata": {},
     "output_type": "execute_result"
    }
   ],
   "source": [
    "ktestmoa = scipy.stats.ks_1samp(x=y20smoa, cdf=scipy.stats.levy_stable.cdf, args=(alphamoa, betamoa, locmoa, scalemoa))\n",
    "ktestmoa"
   ]
  },
  {
   "cell_type": "code",
   "execution_count": null,
   "id": "3c54b660-91a0-4cb9-9256-9c42f62f4261",
   "metadata": {
    "tags": []
   },
   "outputs": [],
   "source": [
    "y20smoi = merval20[moi].mean(axis = 1, skipna = True) \n",
    "alphamoi, betamoi, locmoi, scalemoi = scipy.stats.levy_stable.fit(y20smoi)\n",
    "alphamoi, betamoi, locmoi, scalemoi"
   ]
  },
  {
   "cell_type": "code",
   "execution_count": null,
   "id": "3ceb9059-f13a-4c5c-b739-3895c365afe2",
   "metadata": {
    "tags": []
   },
   "outputs": [],
   "source": [
    "ktestmoi=scipy.stats.ks_1samp(x=y20smoi, cdf=scipy.stats.levy_stable.cdf, args=(alphamoi, betamoi, locmoi, scalemoi))"
   ]
  },
  {
   "cell_type": "code",
   "execution_count": null,
   "id": "812594dc-5f69-42a8-b710-db57cb1c36e3",
   "metadata": {
    "tags": []
   },
   "outputs": [],
   "source": [
    "y20sagro = merval20[agro].mean(axis = 1, skipna = True) \n",
    "alphaagro, betaagro, locagro, scaleagro = scipy.stats.levy_stable.fit(y20sagro)\n",
    "alphaagro, betaagro, locagro, scaleagro"
   ]
  },
  {
   "cell_type": "code",
   "execution_count": null,
   "id": "635d6f5a-e9cd-4eef-9e06-a9b3a6947036",
   "metadata": {
    "tags": []
   },
   "outputs": [],
   "source": [
    "scipy.stats.ks_1samp(x=y20sagro, cdf=scipy.stats.levy_stable.cdf, args=(alphaagro, betaagro, locagro, scaleagro))"
   ]
  },
  {
   "cell_type": "code",
   "execution_count": null,
   "id": "14090fb1-e91f-4147-9cba-a098ecc72380",
   "metadata": {
    "tags": []
   },
   "outputs": [],
   "source": [
    "y20sene = merval20[ene].mean(axis = 1, skipna = True) \n",
    "alphaene, betaene, locene, scaleene = scipy.stats.levy_stable.fit(y20sene)\n",
    "alphaene, betaene, locene, scaleene"
   ]
  },
  {
   "cell_type": "code",
   "execution_count": null,
   "id": "26c5b164-2ba0-40a8-9112-0ebed753aa52",
   "metadata": {
    "tags": []
   },
   "outputs": [],
   "source": [
    "scipy.stats.ks_1samp(x=y20sene, cdf=scipy.stats.levy_stable.cdf, args=(alphaene, betaene, locene, scaleene))"
   ]
  },
  {
   "cell_type": "code",
   "execution_count": null,
   "id": "aa366e78-6ecc-4790-91cf-271668e67ea2",
   "metadata": {
    "tags": []
   },
   "outputs": [],
   "source": [
    "y20sfin = merval20[fin].mean(axis = 1, skipna = True) \n",
    "alphafin, betafin, locfin, scalefin = scipy.stats.levy_stable.fit(y20sfin)\n",
    "alphafin, betafin, locfin, scalefin"
   ]
  },
  {
   "cell_type": "code",
   "execution_count": null,
   "id": "775404ac-6cfc-41f4-ab82-7dba0a899b32",
   "metadata": {
    "tags": []
   },
   "outputs": [],
   "source": [
    "scipy.stats.ks_1samp(x=y20sfin, cdf=scipy.stats.levy_stable.cdf, args=(alphafin, betafin, locfin, scalefin))"
   ]
  },
  {
   "cell_type": "code",
   "execution_count": null,
   "id": "ad7a8758-5413-4e84-b792-7653dc2a68b1",
   "metadata": {
    "tags": []
   },
   "outputs": [],
   "source": [
    "y20s = merval20.mean(axis = 1, skipna = True) \n",
    "alphat, betat, loct, scalet = scipy.stats.levy_stable.fit(y20s)\n",
    "alphat, betat, loct, scalet"
   ]
  },
  {
   "cell_type": "code",
   "execution_count": null,
   "id": "b2f5fdde-6b25-4511-a66a-0bb37d8ee842",
   "metadata": {
    "tags": []
   },
   "outputs": [],
   "source": [
    "scipy.stats.ks_1samp(x=y20s, cdf=scipy.stats.levy_stable.cdf, args=(alphat, betat, loct, scalet))"
   ]
  },
  {
   "cell_type": "code",
   "execution_count": null,
   "id": "5cee47c2-388a-4bcd-a778-ebd6123ba348",
   "metadata": {
    "tags": []
   },
   "outputs": [],
   "source": [
    "fig, ax = plt.subplots(2, 4, sharey=True, sharex=True)\n",
    "fig.set_size_inches(20, 8)\n",
    "#todo\n",
    "alpha, beta, loc, scale = alphat, betat, loct, scalet\n",
    "x = np.linspace(scipy.stats.levy_stable.ppf(0.01, alpha, beta, loc, scale),\n",
    "                scipy.stats.levy_stable.ppf(0.99, alpha, beta, loc, scale), 100)\n",
    "ax[0,0].plot(x, scipy.stats.levy_stable.pdf(x, alpha, beta,loc,scale),'r-', lw=5, alpha=0.6, label='levy_stable pdf')\n",
    "sns.histplot(ax=ax[0,0],data=y20s,stat = \"density\",kde=True)\n",
    "ax[0,0].set_title(\"Total Market - Pvalue KS test=0.76\")\n",
    "#come\n",
    "alpha, beta, loc, scale = alpha_come, beta_come, loc_come, scale_come \n",
    "x = np.linspace(scipy.stats.levy_stable.ppf(0.01, alpha, beta, loc, scale),\n",
    "                scipy.stats.levy_stable.ppf(0.99, alpha, beta, loc, scale), 100)\n",
    "ax[0,1].plot(x, scipy.stats.levy_stable.pdf(x, alpha, beta,loc,scale),'r-', lw=5, alpha=0.6, label='levy_stable pdf')\n",
    "sns.histplot(ax=ax[0,1],data=y20scome,stat = \"density\",kde=True)\n",
    "ax[0,1].set_title(\"Comercial Sector - Pvalue KS test=0.96\")\n",
    "#moa\n",
    "alpha, beta, loc, scale = alphamoa, betamoa, locmoa, scalemoa\n",
    "x = np.linspace(scipy.stats.levy_stable.ppf(0.01, alpha, beta, loc, scale),\n",
    "                scipy.stats.levy_stable.ppf(0.99, alpha, beta, loc, scale), 100)\n",
    "ax[0,2].plot(x, scipy.stats.levy_stable.pdf(x, alpha, beta,loc,scale),'r-', lw=5, alpha=0.6, label='levy_stable pdf')\n",
    "sns.histplot(ax=ax[0,2],data=y20smoa,stat = \"density\",kde=True)\n",
    "ax[0,2].set_title(\"MOA Sector- - Pvalue KS test=0.26\")\n",
    "\n",
    "#moi\n",
    "alpha, beta, loc, scale = alphamoi, betamoi, locmoi, scalemoi\n",
    "x = np.linspace(scipy.stats.levy_stable.ppf(0.01, alpha, beta, loc, scale),\n",
    "                scipy.stats.levy_stable.ppf(0.99, alpha, beta, loc, scale), 100)\n",
    "ax[0,3].plot(x, scipy.stats.levy_stable.pdf(x, alpha, beta,loc,scale),'r-', lw=5, alpha=0.6, label='levy_stable pdf')\n",
    "sns.histplot(ax=ax[0,3],data=y20smoi,stat = \"density\",kde=True)\n",
    "ax[0,3].set_title(\"MOI Sector - Pvalue KS test=0.72\")\n",
    "#agro\n",
    "alpha, beta, loc, scale = alphaagro, betaagro, locagro, scaleagro\n",
    "x = np.linspace(scipy.stats.levy_stable.ppf(0.01, alpha, beta, loc, scale),\n",
    "                scipy.stats.levy_stable.ppf(0.99, alpha, beta, loc, scale), 100)\n",
    "ax[1,0].plot(x, scipy.stats.levy_stable.pdf(x, alpha, beta,loc,scale),'r-', lw=5, alpha=0.6, label='levy_stable pdf')\n",
    "sns.histplot(ax=ax[1,0],data=y20sagro,stat = \"density\",kde=True)\n",
    "ax[1,0].set_title(\"AGRO Sector - Pvalue KS test=0.90\")\n",
    "#ene\n",
    "alpha, beta, loc, scale = alphaene, betaene, locene, scaleene\n",
    "x = np.linspace(scipy.stats.levy_stable.ppf(0.01, alpha, beta, loc, scale),\n",
    "                scipy.stats.levy_stable.ppf(0.99, alpha, beta, loc, scale), 100)\n",
    "ax[1,1].plot(x, scipy.stats.levy_stable.pdf(x, alpha, beta,loc,scale),'r-', lw=5, alpha=0.6, label='levy_stable pdf')\n",
    "sns.histplot(ax=ax[1,1],data=y20sene,stat = \"density\",kde=True)\n",
    "ax[1,1].set_title(\"ENE Sector - Pvalue KS test=0.81\")\n",
    "\n",
    "#FIN\n",
    "alpha, beta, loc, scale = alphafin, betafin, locfin, scalefin\n",
    "x = np.linspace(scipy.stats.levy_stable.ppf(0.01, alpha, beta, loc, scale),\n",
    "                scipy.stats.levy_stable.ppf(0.99, alpha, beta, loc, scale), 100)\n",
    "ax[1,2].plot(x, scipy.stats.levy_stable.pdf(x, alpha, beta,loc,scale),'r-', lw=5, alpha=0.6, label='levy_stable pdf')\n",
    "sns.histplot(ax=ax[1,2],data=y20sfin,stat = \"density\",kde=True)\n",
    "ax[1,2].set_title(\"FIN Sector - Pvalue KS test=0.83\")\n",
    "ax[1,3].set_title(\"2020\")\n",
    "\n",
    "\n",
    "# blue line is empirical data and red line is teorical data of the goodness fit"
   ]
  },
  {
   "cell_type": "code",
   "execution_count": null,
   "id": "0c5aab78-370a-4f77-9c7a-53f0fc96e743",
   "metadata": {
    "tags": []
   },
   "outputs": [],
   "source": [
    "merval19 = gp.datasets.load_MERVAL(\n",
    "    first=\"01-02-2019\", last = \"12-31-2019\")\n",
    "merval19 = merval19.as_returns()\n"
   ]
  },
  {
   "cell_type": "code",
   "execution_count": null,
   "id": "40103af9-f916-467e-8d38-5d00e0e49bc9",
   "metadata": {
    "tags": []
   },
   "outputs": [],
   "source": [
    "y19scome = merval19[come].mean(axis = 1, skipna = True) \n",
    "alpha_come, beta_come, loc_come, scale_come = scipy.stats.levy_stable.fit(y19scome)\n",
    "alpha_come, beta_come, loc_come, scale_come "
   ]
  },
  {
   "cell_type": "code",
   "execution_count": null,
   "id": "93e60749-da23-4bd9-8bb4-0dce34de46f6",
   "metadata": {
    "tags": []
   },
   "outputs": [],
   "source": [
    "scipy.stats.ks_1samp(x=y19scome, cdf=scipy.stats.levy_stable.cdf, args=(alpha_come, beta_come, loc_come, scale_come ))"
   ]
  },
  {
   "cell_type": "code",
   "execution_count": null,
   "id": "c7acbdd7-2427-4156-a0cd-ebe22c9ce1e1",
   "metadata": {
    "tags": []
   },
   "outputs": [],
   "source": [
    "y19smoa = merval19[moa].mean(axis = 1, skipna = True) \n",
    "alphamoa, betamoa, locmoa, scalemoa = scipy.stats.levy_stable.fit(y19smoa)\n",
    "alphamoa, betamoa, locmoa, scalemoa"
   ]
  },
  {
   "cell_type": "code",
   "execution_count": null,
   "id": "f734a539-fe4b-4d4c-88cf-67a8838b4738",
   "metadata": {
    "tags": []
   },
   "outputs": [],
   "source": [
    "scipy.stats.ks_1samp(x=y19smoa, cdf=scipy.stats.levy_stable.cdf, args=(alphamoa, betamoa, locmoa, scalemoa))"
   ]
  },
  {
   "cell_type": "code",
   "execution_count": null,
   "id": "a885db47-7e3a-45b4-8194-a41a2faa6b4d",
   "metadata": {
    "tags": []
   },
   "outputs": [],
   "source": [
    "y19smoi = merval19[moi].mean(axis = 1, skipna = True) \n",
    "alphamoi, betamoi, locmoi, scalemoi = scipy.stats.levy_stable.fit(y19smoi)\n",
    "alphamoi, betamoi, locmoi, scalemoi"
   ]
  },
  {
   "cell_type": "code",
   "execution_count": null,
   "id": "2296d014-9512-4b4c-af22-6ee1e36bb6d9",
   "metadata": {
    "tags": []
   },
   "outputs": [],
   "source": [
    "scipy.stats.ks_1samp(x=y19smoi, cdf=scipy.stats.levy_stable.cdf, args=(alphamoi, betamoi, locmoi, scalemoi))"
   ]
  },
  {
   "cell_type": "code",
   "execution_count": null,
   "id": "3bd71fa7-f109-4f84-85c7-ef1e206d3012",
   "metadata": {
    "tags": []
   },
   "outputs": [],
   "source": [
    "y19sagro = merval19[agro].mean(axis = 1, skipna = True) \n",
    "alphaagro, betaagro, locagro, scaleagro = scipy.stats.levy_stable.fit(y19sagro)\n",
    "alphaagro, betaagro, locagro, scaleagro"
   ]
  },
  {
   "cell_type": "code",
   "execution_count": null,
   "id": "0389ec0b-7b26-454d-a5de-2b60dd625e68",
   "metadata": {
    "tags": []
   },
   "outputs": [],
   "source": [
    "scipy.stats.ks_1samp(x=y19sagro, cdf=scipy.stats.levy_stable.cdf, args=(alphaagro, betaagro, locagro, scaleagro))"
   ]
  },
  {
   "cell_type": "code",
   "execution_count": null,
   "id": "423118ab-b2e7-4ade-9acc-84550584cd90",
   "metadata": {
    "tags": []
   },
   "outputs": [],
   "source": [
    "y19sene = merval19[ene].mean(axis = 1, skipna = True) \n",
    "alphaene, betaene, locene, scaleene = scipy.stats.levy_stable.fit(y19sene)\n",
    "alphaene, betaene, locene, scaleene"
   ]
  },
  {
   "cell_type": "code",
   "execution_count": null,
   "id": "01495e93-aa47-466d-9301-638aa8ea5749",
   "metadata": {
    "tags": []
   },
   "outputs": [],
   "source": [
    "scipy.stats.ks_1samp(x=y19sene, cdf=scipy.stats.levy_stable.cdf, args=(alphaene, betaene, locene, scaleene))"
   ]
  },
  {
   "cell_type": "code",
   "execution_count": null,
   "id": "22845a3e-7c5a-48f8-834e-950d8d82aaac",
   "metadata": {
    "tags": []
   },
   "outputs": [],
   "source": [
    "y19sfin = merval19[fin].mean(axis = 1, skipna = True) \n",
    "alphafin, betafin, locfin, scalefin = scipy.stats.levy_stable.fit(y19sfin)\n",
    "alphafin, betafin, locfin, scalefin"
   ]
  },
  {
   "cell_type": "code",
   "execution_count": null,
   "id": "94cb602a-9277-472c-95da-20ef99d0f07a",
   "metadata": {
    "tags": []
   },
   "outputs": [],
   "source": [
    "scipy.stats.ks_1samp(x=y19sfin, cdf=scipy.stats.levy_stable.cdf, args=(alphafin, betafin, locfin, scalefin))"
   ]
  },
  {
   "cell_type": "code",
   "execution_count": null,
   "id": "ca9cc959-feb4-48a7-924f-3477a9e5cc75",
   "metadata": {
    "tags": []
   },
   "outputs": [],
   "source": [
    "y19s = merval19.mean(axis = 1, skipna = True) \n",
    "alphat, betat, loct, scalet = scipy.stats.levy_stable.fit(y19s)\n",
    "alphat, betat, loct, scalet"
   ]
  },
  {
   "cell_type": "code",
   "execution_count": null,
   "id": "d0a9a1a0-773c-46c7-b95d-225f89d9490e",
   "metadata": {
    "tags": []
   },
   "outputs": [],
   "source": [
    "merval18 = gp.datasets.load_MERVAL(\n",
    "    first=\"01-02-2018\", last = \"12-31-2018\")\n",
    "merval18 = merval18.as_returns()\n"
   ]
  },
  {
   "cell_type": "code",
   "execution_count": null,
   "id": "1ed4fcbc-3720-4238-a3fa-f3d44180ee24",
   "metadata": {
    "tags": []
   },
   "outputs": [],
   "source": [
    "y17 = merval17.mean(axis = 1, skipna = False) \n",
    "y17\n"
   ]
  }
 ],
 "metadata": {
  "kernelspec": {
   "display_name": "Python 3 (ipykernel)",
   "language": "python",
   "name": "python3"
  },
  "language_info": {
   "codemirror_mode": {
    "name": "ipython",
    "version": 3
   },
   "file_extension": ".py",
   "mimetype": "text/x-python",
   "name": "python",
   "nbconvert_exporter": "python",
   "pygments_lexer": "ipython3",
   "version": "3.9.5"
  }
 },
 "nbformat": 4,
 "nbformat_minor": 5
}
