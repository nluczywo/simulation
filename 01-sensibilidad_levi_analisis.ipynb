{
 "cells": [
  {
   "cell_type": "code",
   "execution_count": 1,
   "id": "64ee2ef4-89ce-4099-888d-f593b04cf8ca",
   "metadata": {
    "tags": []
   },
   "outputs": [],
   "source": [
    "import seaborn as sns\n",
    "import matplotlib.pyplot as plt\n",
    "import joblib as jb\n",
    "import pandas as pd\n",
    "import scipy "
   ]
  },
  {
   "cell_type": "markdown",
   "id": "4233ecca-7d88-4187-9b81-f7a13afffe41",
   "metadata": {
    "tags": []
   },
   "source": [
    "# Variación de $\\mu$"
   ]
  },
  {
   "cell_type": "code",
   "execution_count": 2,
   "id": "4efbf1fc-5af9-4689-963a-803d0199b8a8",
   "metadata": {
    "tags": []
   },
   "outputs": [],
   "source": [
    "data_mu = jb.load(\"data/simu_levi_mu.bz2\")"
   ]
  },
  {
   "cell_type": "code",
   "execution_count": 3,
   "id": "5dcc7ac1-8d4e-4878-9d97-d0bb7c15807b",
   "metadata": {
    "tags": []
   },
   "outputs": [],
   "source": [
    "mus = []\n",
    "delisted = []\n",
    "for d in data_mu:\n",
    "    mus.append(d['mu'])\n",
    "    delisted.append(d['delisted'])"
   ]
  },
  {
   "cell_type": "code",
   "execution_count": 1,
   "id": "4b3bc5aa-bef2-4044-b7a9-73749fafac49",
   "metadata": {
    "tags": []
   },
   "outputs": [
    {
     "ename": "NameError",
     "evalue": "name 'sns' is not defined",
     "output_type": "error",
     "traceback": [
      "\u001b[0;31m---------------------------------------------------------------------------\u001b[0m",
      "\u001b[0;31mNameError\u001b[0m                                 Traceback (most recent call last)",
      "Cell \u001b[0;32mIn[1], line 1\u001b[0m\n\u001b[0;32m----> 1\u001b[0m \u001b[43msns\u001b[49m\u001b[38;5;241m.\u001b[39mbarplot(x\u001b[38;5;241m=\u001b[39mmus,y\u001b[38;5;241m=\u001b[39mdelisted)\n",
      "\u001b[0;31mNameError\u001b[0m: name 'sns' is not defined"
     ]
    }
   ],
   "source": [
    "sns.barplot(x=mus,y=delisted)"
   ]
  },
  {
   "cell_type": "markdown",
   "id": "ce1df0f1-8f9f-4876-9941-943a366876c5",
   "metadata": {
    "tags": []
   },
   "source": [
    "# Variación de $\\sigma$"
   ]
  },
  {
   "cell_type": "code",
   "execution_count": 5,
   "id": "99cdcb55-7c57-4e92-89ba-b1f7bcb89b78",
   "metadata": {
    "tags": []
   },
   "outputs": [],
   "source": [
    "data_sigma = jb.load(\"data/simu_levi_sigma.bz2\")"
   ]
  },
  {
   "cell_type": "code",
   "execution_count": 6,
   "id": "0e6ba015-4b4d-4f42-8819-1051f1617cc7",
   "metadata": {
    "tags": []
   },
   "outputs": [],
   "source": [
    "sigmas = []\n",
    "delisted = []\n",
    "for d in data_sigma:\n",
    "    sigmas.append(d['sigma'])\n",
    "    delisted.append(d['delisted'])"
   ]
  },
  {
   "cell_type": "code",
   "execution_count": 7,
   "id": "fc850d43-99b0-436f-adc8-56beca490b62",
   "metadata": {
    "tags": []
   },
   "outputs": [
    {
     "data": {
      "text/plain": [
       "<Axes: >"
      ]
     },
     "execution_count": 7,
     "metadata": {},
     "output_type": "execute_result"
    },
    {
     "data": {
      "image/png": "[encoded data removed]",
      "text/plain": [
       "<Figure size 640x480 with 1 Axes>"
      ]
     },
     "metadata": {},
     "output_type": "display_data"
    }
   ],
   "source": [
    "sns.barplot(x=sigmas,y=delisted)"
   ]
  },
  {
   "cell_type": "markdown",
   "id": "6b051b39-cfad-41a0-80e8-1b8f379f1abf",
   "metadata": {},
   "source": [
    "Si aumenta el sigma aumentan el número de delistadas si el precio de partida es bajo \n",
    "Si el precio de partida el número de delistas soporta mucha variabilidad \n",
    "Specifically, levy_stable.pdf(x, alpha, beta, loc, scale) is identically equivalent to levy_stable.pdf(y, alpha, beta) / scale with y = (x - loc) / scale. \n",
    "alpha = skew\n",
    "beta = kurt\n",
    "#  alpha=1.6411, beta=-0.0126,    mu=0.0005,    sigma=0.005"
   ]
  },
  {
   "cell_type": "markdown",
   "id": "1e554d2a-71f0-4111-b1ba-05d70ed18bae",
   "metadata": {},
   "source": [
    "# Variación de $\\beta$ "
   ]
  },
  {
   "cell_type": "code",
   "execution_count": 8,
   "id": "cab664b7-a088-4246-9abb-d322331c0ace",
   "metadata": {
    "tags": []
   },
   "outputs": [],
   "source": [
    "data_beta = jb.load(\"data/simu_levi_beta.bz2\")"
   ]
  },
  {
   "cell_type": "code",
   "execution_count": 9,
   "id": "5ab512cf-eed5-4c4d-a310-49564611d80e",
   "metadata": {
    "tags": []
   },
   "outputs": [],
   "source": [
    "betas = []\n",
    "delisted = []\n",
    "for d in data_beta:\n",
    "    betas.append(d['beta'])\n",
    "    delisted.append(d['delisted'])"
   ]
  },
  {
   "cell_type": "code",
   "execution_count": 10,
   "id": "ad60f5d7-4151-40d3-af23-a925c349ae41",
   "metadata": {
    "tags": []
   },
   "outputs": [
    {
     "data": {
      "image/png": "[encoded data removed]",
      "text/plain": [
       "<Figure size 640x480 with 1 Axes>"
      ]
     },
     "metadata": {},
     "output_type": "display_data"
    }
   ],
   "source": [
    "sns.barplot(x=betas,y=delisted);"
   ]
  },
  {
   "cell_type": "code",
   "execution_count": null,
   "id": "f709f923-56bd-4ce7-889b-4afbc64d9a2d",
   "metadata": {},
   "outputs": [],
   "source": []
  }
 ],
 "metadata": {
  "kernelspec": {
   "display_name": "Python 3 (ipykernel)",
   "language": "python",
   "name": "python3"
  },
  "language_info": {
   "codemirror_mode": {
    "name": "ipython",
    "version": 3
   },
   "file_extension": ".py",
   "mimetype": "text/x-python",
   "name": "python",
   "nbconvert_exporter": "python",
   "pygments_lexer": "ipython3",
   "version": "3.9.5"
  }
 },
 "nbformat": 4,
 "nbformat_minor": 5
}
